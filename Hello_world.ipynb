{
 "cells": [
  {
   "cell_type": "code",
   "execution_count": 1,
   "metadata": {},
   "outputs": [
    {
     "name": "stdout",
     "output_type": "stream",
     "text": [
      "package 'reticulate' successfully unpacked and MD5 sums checked\n",
      "\n",
      "The downloaded binary packages are in\n",
      "\tC:\\Users\\Sundeep\\AppData\\Local\\Temp\\RtmpSqfu7J\\downloaded_packages\n"
     ]
    },
    {
     "name": "stderr",
     "output_type": "stream",
     "text": [
      "\n",
      "Attaching package: 'dplyr'\n",
      "\n",
      "The following objects are masked from 'package:stats':\n",
      "\n",
      "    filter, lag\n",
      "\n",
      "The following objects are masked from 'package:base':\n",
      "\n",
      "    intersect, setdiff, setequal, union\n",
      "\n"
     ]
    }
   ],
   "source": [
    "# Installing all the required packages\n",
    "install.packages(\"reticulate\")\n",
    "library(reticulate)\n",
    "library(dplyr)\n",
    "os <- import(\"os\")\n",
    "options(warn=1)"
   ]
  },
  {
   "cell_type": "code",
   "execution_count": 2,
   "metadata": {},
   "outputs": [
    {
     "data": {
      "text/html": [
       "'C:/Users/Sundeep/Desktop'"
      ],
      "text/latex": [
       "'C:/Users/Sundeep/Desktop'"
      ],
      "text/markdown": [
       "'C:/Users/Sundeep/Desktop'"
      ],
      "text/plain": [
       "[1] \"C:/Users/Sundeep/Desktop\""
      ]
     },
     "metadata": {},
     "output_type": "display_data"
    }
   ],
   "source": [
    "#Current working directory\n",
    "getwd()"
   ]
  },
  {
   "cell_type": "code",
   "execution_count": 3,
   "metadata": {},
   "outputs": [],
   "source": [
    "#Changing the working directory to where we have artml files\n",
    "setwd(\"C:/Users/Sundeep/Downloads/artml\")"
   ]
  },
  {
   "cell_type": "markdown",
   "metadata": {},
   "source": [
    "### Testing on Dummy data"
   ]
  },
  {
   "cell_type": "code",
   "execution_count": 4,
   "metadata": {},
   "outputs": [],
   "source": [
    "dd <- data.frame(x = 1:8, f = 8:15)"
   ]
  },
  {
   "cell_type": "code",
   "execution_count": 5,
   "metadata": {},
   "outputs": [
    {
     "data": {
      "text/html": [
       "<table>\n",
       "<thead><tr><th scope=col>x</th><th scope=col>f</th></tr></thead>\n",
       "<tbody>\n",
       "\t<tr><td>1 </td><td> 8</td></tr>\n",
       "\t<tr><td>2 </td><td> 9</td></tr>\n",
       "\t<tr><td>3 </td><td>10</td></tr>\n",
       "\t<tr><td>4 </td><td>11</td></tr>\n",
       "\t<tr><td>5 </td><td>12</td></tr>\n",
       "\t<tr><td>6 </td><td>13</td></tr>\n",
       "\t<tr><td>7 </td><td>14</td></tr>\n",
       "\t<tr><td>8 </td><td>15</td></tr>\n",
       "</tbody>\n",
       "</table>\n"
      ],
      "text/latex": [
       "\\begin{tabular}{r|ll}\n",
       " x & f\\\\\n",
       "\\hline\n",
       "\t 1  &  8\\\\\n",
       "\t 2  &  9\\\\\n",
       "\t 3  & 10\\\\\n",
       "\t 4  & 11\\\\\n",
       "\t 5  & 12\\\\\n",
       "\t 6  & 13\\\\\n",
       "\t 7  & 14\\\\\n",
       "\t 8  & 15\\\\\n",
       "\\end{tabular}\n"
      ],
      "text/markdown": [
       "\n",
       "| x | f |\n",
       "|---|---|\n",
       "| 1  |  8 |\n",
       "| 2  |  9 |\n",
       "| 3  | 10 |\n",
       "| 4  | 11 |\n",
       "| 5  | 12 |\n",
       "| 6  | 13 |\n",
       "| 7  | 14 |\n",
       "| 8  | 15 |\n",
       "\n"
      ],
      "text/plain": [
       "  x f \n",
       "1 1  8\n",
       "2 2  9\n",
       "3 3 10\n",
       "4 4 11\n",
       "5 5 12\n",
       "6 6 13\n",
       "7 7 14\n",
       "8 8 15"
      ]
     },
     "metadata": {},
     "output_type": "display_data"
    }
   ],
   "source": [
    "dd"
   ]
  },
  {
   "cell_type": "code",
   "execution_count": 6,
   "metadata": {},
   "outputs": [],
   "source": [
    "#importing the bet file\n",
    "source_python(\"bet.py\")"
   ]
  },
  {
   "cell_type": "code",
   "execution_count": 7,
   "metadata": {},
   "outputs": [],
   "source": [
    "#create BET using the create_bet function\n",
    "a = create_bet(dd)"
   ]
  },
  {
   "cell_type": "code",
   "execution_count": 8,
   "metadata": {},
   "outputs": [
    {
     "data": {
      "text/html": [
       "<table>\n",
       "<thead><tr><th></th><th scope=col>x</th><th scope=col>f</th></tr></thead>\n",
       "<tbody>\n",
       "\t<tr><th scope=row>x</th><td>8, 36, 204, 1296, 8772, 8, 36, 204, 1296, 8772, 204, 8772     </td><td>8, 36, 204, 1296, 8772, 8, 92, 1100, 13616, 173636, 456, 36912</td></tr>\n",
       "\t<tr><th scope=row>f</th><td>8, 92, 1100, 13616, 173636, 8, 36, 204, 1296, 8772, 456, 36912      </td><td>8, 92, 1100, 13616, 173636, 8, 92, 1100, 13616, 173636, 1100, 173636</td></tr>\n",
       "</tbody>\n",
       "</table>\n"
      ],
      "text/latex": [
       "\\begin{tabular}{r|ll}\n",
       "  & x & f\\\\\n",
       "\\hline\n",
       "\tx & 8, 36, 204, 1296, 8772, 8, 36, 204, 1296, 8772, 204, 8772      & 8, 36, 204, 1296, 8772, 8, 92, 1100, 13616, 173636, 456, 36912\\\\\n",
       "\tf & 8, 92, 1100, 13616, 173636, 8, 36, 204, 1296, 8772, 456, 36912       & 8, 92, 1100, 13616, 173636, 8, 92, 1100, 13616, 173636, 1100, 173636\\\\\n",
       "\\end{tabular}\n"
      ],
      "text/markdown": [
       "\n",
       "| <!--/--> | x | f |\n",
       "|---|---|---|\n",
       "| x | 8, 36, 204, 1296, 8772, 8, 36, 204, 1296, 8772, 204, 8772      | 8, 36, 204, 1296, 8772, 8, 92, 1100, 13616, 173636, 456, 36912 |\n",
       "| f | 8, 92, 1100, 13616, 173636, 8, 36, 204, 1296, 8772, 456, 36912       | 8, 92, 1100, 13616, 173636, 8, 92, 1100, 13616, 173636, 1100, 173636 |\n",
       "\n"
      ],
      "text/plain": [
       "  x                                                             \n",
       "x 8, 36, 204, 1296, 8772, 8, 36, 204, 1296, 8772, 204, 8772     \n",
       "f 8, 92, 1100, 13616, 173636, 8, 36, 204, 1296, 8772, 456, 36912\n",
       "  f                                                                   \n",
       "x 8, 36, 204, 1296, 8772, 8, 92, 1100, 13616, 173636, 456, 36912      \n",
       "f 8, 92, 1100, 13616, 173636, 8, 92, 1100, 13616, 173636, 1100, 173636"
      ]
     },
     "metadata": {},
     "output_type": "display_data"
    }
   ],
   "source": [
    "a"
   ]
  },
  {
   "cell_type": "code",
   "execution_count": 9,
   "metadata": {},
   "outputs": [],
   "source": [
    "#importing the Univariate Stats file\n",
    "source_python(\"univariate.py\")"
   ]
  },
  {
   "cell_type": "code",
   "execution_count": 10,
   "metadata": {},
   "outputs": [
    {
     "data": {
      "text/html": [
       "<table>\n",
       "<thead><tr><th></th><th scope=col>x</th><th scope=col>f</th></tr></thead>\n",
       "<tbody>\n",
       "\t<tr><th scope=row>count</th><td> 8.00000000</td><td> 8.00000000</td></tr>\n",
       "\t<tr><th scope=row>Mean</th><td> 4.50000000</td><td>11.50000000</td></tr>\n",
       "\t<tr><th scope=row>Variance</th><td> 5.25000000</td><td> 5.25000000</td></tr>\n",
       "\t<tr><th scope=row>Standard_deviation</th><td> 2.29128785</td><td> 2.29128785</td></tr>\n",
       "\t<tr><th scope=row>coeff_of_variation</th><td>50.91750772</td><td>19.92424215</td></tr>\n",
       "\t<tr><th scope=row>skewness</th><td> 0.00000000</td><td> 0.00000000</td></tr>\n",
       "\t<tr><th scope=row>Kurtosis</th><td>-0.06734694</td><td>-0.06734694</td></tr>\n",
       "</tbody>\n",
       "</table>\n"
      ],
      "text/latex": [
       "\\begin{tabular}{r|ll}\n",
       "  & x & f\\\\\n",
       "\\hline\n",
       "\tcount &  8.00000000 &  8.00000000\\\\\n",
       "\tMean &  4.50000000 & 11.50000000\\\\\n",
       "\tVariance &  5.25000000 &  5.25000000\\\\\n",
       "\tStandard\\_deviation &  2.29128785 &  2.29128785\\\\\n",
       "\tcoeff\\_of\\_variation & 50.91750772 & 19.92424215\\\\\n",
       "\tskewness &  0.00000000 &  0.00000000\\\\\n",
       "\tKurtosis & -0.06734694 & -0.06734694\\\\\n",
       "\\end{tabular}\n"
      ],
      "text/markdown": [
       "\n",
       "| <!--/--> | x | f |\n",
       "|---|---|---|\n",
       "| count |  8.00000000 |  8.00000000 |\n",
       "| Mean |  4.50000000 | 11.50000000 |\n",
       "| Variance |  5.25000000 |  5.25000000 |\n",
       "| Standard_deviation |  2.29128785 |  2.29128785 |\n",
       "| coeff_of_variation | 50.91750772 | 19.92424215 |\n",
       "| skewness |  0.00000000 |  0.00000000 |\n",
       "| Kurtosis | -0.06734694 | -0.06734694 |\n",
       "\n"
      ],
      "text/plain": [
       "                   x           f          \n",
       "count               8.00000000  8.00000000\n",
       "Mean                4.50000000 11.50000000\n",
       "Variance            5.25000000  5.25000000\n",
       "Standard_deviation  2.29128785  2.29128785\n",
       "coeff_of_variation 50.91750772 19.92424215\n",
       "skewness            0.00000000  0.00000000\n",
       "Kurtosis           -0.06734694 -0.06734694"
      ]
     },
     "metadata": {},
     "output_type": "display_data"
    }
   ],
   "source": [
    "univariate(a)"
   ]
  },
  {
   "cell_type": "code",
   "execution_count": 11,
   "metadata": {},
   "outputs": [],
   "source": [
    "#Importing Bivariate stats file\n",
    "source_python(\"covariance.py\")\n",
    "source_python(\"correlation.py\")"
   ]
  },
  {
   "cell_type": "code",
   "execution_count": 12,
   "metadata": {},
   "outputs": [
    {
     "data": {
      "text/html": [
       "<table>\n",
       "<thead><tr><th></th><th scope=col>x</th><th scope=col>f</th></tr></thead>\n",
       "<tbody>\n",
       "\t<tr><th scope=row>x</th><td>5.25</td><td>5.25</td></tr>\n",
       "\t<tr><th scope=row>f</th><td>5.25</td><td>5.25</td></tr>\n",
       "</tbody>\n",
       "</table>\n"
      ],
      "text/latex": [
       "\\begin{tabular}{r|ll}\n",
       "  & x & f\\\\\n",
       "\\hline\n",
       "\tx & 5.25 & 5.25\\\\\n",
       "\tf & 5.25 & 5.25\\\\\n",
       "\\end{tabular}\n"
      ],
      "text/markdown": [
       "\n",
       "| <!--/--> | x | f |\n",
       "|---|---|---|\n",
       "| x | 5.25 | 5.25 |\n",
       "| f | 5.25 | 5.25 |\n",
       "\n"
      ],
      "text/plain": [
       "  x    f   \n",
       "x 5.25 5.25\n",
       "f 5.25 5.25"
      ]
     },
     "metadata": {},
     "output_type": "display_data"
    }
   ],
   "source": [
    "covariance(a)"
   ]
  },
  {
   "cell_type": "markdown",
   "metadata": {},
   "source": [
    "### Case Study - Credit Fraud Detection"
   ]
  },
  {
   "cell_type": "code",
   "execution_count": 13,
   "metadata": {},
   "outputs": [],
   "source": [
    "#loadining the data to the dataframe\n",
    "df <- read.csv(file=\"Credit_train.csv\", header=TRUE)"
   ]
  },
  {
   "cell_type": "code",
   "execution_count": 14,
   "metadata": {},
   "outputs": [
    {
     "data": {
      "text/html": [
       "<table>\n",
       "<thead><tr><th scope=col>seq</th><th scope=col>Credit_Default</th><th scope=col>BE_SCORE_ON_OD</th><th scope=col>BNI_SCORE_ON_OD</th><th scope=col>BUSAGE</th><th scope=col>BUSSTRUC</th><th scope=col>MAXLINEUTIL</th><th scope=col>AVGLINEUTIL12</th><th scope=col>MAXLINEBALRT</th><th scope=col>MAXTIMESLBAL12</th><th scope=col>DAYSDELQ</th><th scope=col>TOTDAYSDELQ12</th><th scope=col>TOTACBAL</th><th scope=col>MAXDELQ</th><th scope=col>TOTDELQ12</th><th scope=col>DEPOSITRT</th><th scope=col>AVGDEPRT12</th><th scope=col>ALL_OPEN_TRADE_UT</th><th scope=col>BR_OPEN_TRADE_UT</th><th scope=col>BR_TRADE_PAST_DUE</th></tr></thead>\n",
       "<tbody>\n",
       "\t<tr><td>7       </td><td>1       </td><td>637     </td><td>292     </td><td> 67     </td><td>1       </td><td>0.8702  </td><td>0.768375</td><td>0.9535  </td><td>0       </td><td>0       </td><td>0       </td><td>26322.47</td><td>0       </td><td>4       </td><td>0.0949  </td><td>0.0486  </td><td>57      </td><td>57      </td><td>0       </td></tr>\n",
       "\t<tr><td>4       </td><td>1       </td><td>618     </td><td>736     </td><td> 97     </td><td>1       </td><td>0.8449  </td><td>0.552183</td><td>0.8449  </td><td>0       </td><td>0       </td><td>0       </td><td>84498.81</td><td>1       </td><td>5       </td><td>0.0000  </td><td>0.2137  </td><td>75      </td><td>75      </td><td>0       </td></tr>\n",
       "\t<tr><td>8       </td><td>1       </td><td>452     </td><td>357     </td><td> 25     </td><td>1       </td><td>1.0927  </td><td>0.962591</td><td>1.0927  </td><td>8       </td><td>0       </td><td>0       </td><td>32782.18</td><td>1       </td><td>1       </td><td>0.0000  </td><td>0.4224  </td><td>91      </td><td>95      </td><td>2       </td></tr>\n",
       "\t<tr><td>9       </td><td>1       </td><td>816     </td><td>968     </td><td> 72     </td><td>1       </td><td>0.8626  </td><td>0.636644</td><td>0.8583  </td><td>0       </td><td>0       </td><td>0       </td><td>64109.12</td><td>0       </td><td>0       </td><td>0.0104  </td><td>0.6894  </td><td>50      </td><td> 4      </td><td>0       </td></tr>\n",
       "\t<tr><td>7       </td><td>1       </td><td>782     </td><td>968     </td><td>151     </td><td>2       </td><td>1.0085  </td><td>0.737366</td><td>1.0085  </td><td>1       </td><td>0       </td><td>0       </td><td>55469.94</td><td>7       </td><td>7       </td><td>0.0000  </td><td>0.0950  </td><td>19      </td><td> 0      </td><td>0       </td></tr>\n",
       "\t<tr><td>5       </td><td>1       </td><td>753     </td><td>966     </td><td> 46     </td><td>1       </td><td>0.0897  </td><td>0.268708</td><td>0.0897  </td><td>0       </td><td>0       </td><td>0       </td><td> 4487.07</td><td>2       </td><td>9       </td><td>0.0000  </td><td>0.1085  </td><td>43      </td><td> 2      </td><td>0       </td></tr>\n",
       "</tbody>\n",
       "</table>\n"
      ],
      "text/latex": [
       "\\begin{tabular}{r|llllllllllllllllllll}\n",
       " seq & Credit\\_Default & BE\\_SCORE\\_ON\\_OD & BNI\\_SCORE\\_ON\\_OD & BUSAGE & BUSSTRUC & MAXLINEUTIL & AVGLINEUTIL12 & MAXLINEBALRT & MAXTIMESLBAL12 & DAYSDELQ & TOTDAYSDELQ12 & TOTACBAL & MAXDELQ & TOTDELQ12 & DEPOSITRT & AVGDEPRT12 & ALL\\_OPEN\\_TRADE\\_UT & BR\\_OPEN\\_TRADE\\_UT & BR\\_TRADE\\_PAST\\_DUE\\\\\n",
       "\\hline\n",
       "\t 7        & 1        & 637      & 292      &  67      & 1        & 0.8702   & 0.768375 & 0.9535   & 0        & 0        & 0        & 26322.47 & 0        & 4        & 0.0949   & 0.0486   & 57       & 57       & 0       \\\\\n",
       "\t 4        & 1        & 618      & 736      &  97      & 1        & 0.8449   & 0.552183 & 0.8449   & 0        & 0        & 0        & 84498.81 & 1        & 5        & 0.0000   & 0.2137   & 75       & 75       & 0       \\\\\n",
       "\t 8        & 1        & 452      & 357      &  25      & 1        & 1.0927   & 0.962591 & 1.0927   & 8        & 0        & 0        & 32782.18 & 1        & 1        & 0.0000   & 0.4224   & 91       & 95       & 2       \\\\\n",
       "\t 9        & 1        & 816      & 968      &  72      & 1        & 0.8626   & 0.636644 & 0.8583   & 0        & 0        & 0        & 64109.12 & 0        & 0        & 0.0104   & 0.6894   & 50       &  4       & 0       \\\\\n",
       "\t 7        & 1        & 782      & 968      & 151      & 2        & 1.0085   & 0.737366 & 1.0085   & 1        & 0        & 0        & 55469.94 & 7        & 7        & 0.0000   & 0.0950   & 19       &  0       & 0       \\\\\n",
       "\t 5        & 1        & 753      & 966      &  46      & 1        & 0.0897   & 0.268708 & 0.0897   & 0        & 0        & 0        &  4487.07 & 2        & 9        & 0.0000   & 0.1085   & 43       &  2       & 0       \\\\\n",
       "\\end{tabular}\n"
      ],
      "text/markdown": [
       "\n",
       "| seq | Credit_Default | BE_SCORE_ON_OD | BNI_SCORE_ON_OD | BUSAGE | BUSSTRUC | MAXLINEUTIL | AVGLINEUTIL12 | MAXLINEBALRT | MAXTIMESLBAL12 | DAYSDELQ | TOTDAYSDELQ12 | TOTACBAL | MAXDELQ | TOTDELQ12 | DEPOSITRT | AVGDEPRT12 | ALL_OPEN_TRADE_UT | BR_OPEN_TRADE_UT | BR_TRADE_PAST_DUE |\n",
       "|---|---|---|---|---|---|---|---|---|---|---|---|---|---|---|---|---|---|---|---|\n",
       "| 7        | 1        | 637      | 292      |  67      | 1        | 0.8702   | 0.768375 | 0.9535   | 0        | 0        | 0        | 26322.47 | 0        | 4        | 0.0949   | 0.0486   | 57       | 57       | 0        |\n",
       "| 4        | 1        | 618      | 736      |  97      | 1        | 0.8449   | 0.552183 | 0.8449   | 0        | 0        | 0        | 84498.81 | 1        | 5        | 0.0000   | 0.2137   | 75       | 75       | 0        |\n",
       "| 8        | 1        | 452      | 357      |  25      | 1        | 1.0927   | 0.962591 | 1.0927   | 8        | 0        | 0        | 32782.18 | 1        | 1        | 0.0000   | 0.4224   | 91       | 95       | 2        |\n",
       "| 9        | 1        | 816      | 968      |  72      | 1        | 0.8626   | 0.636644 | 0.8583   | 0        | 0        | 0        | 64109.12 | 0        | 0        | 0.0104   | 0.6894   | 50       |  4       | 0        |\n",
       "| 7        | 1        | 782      | 968      | 151      | 2        | 1.0085   | 0.737366 | 1.0085   | 1        | 0        | 0        | 55469.94 | 7        | 7        | 0.0000   | 0.0950   | 19       |  0       | 0        |\n",
       "| 5        | 1        | 753      | 966      |  46      | 1        | 0.0897   | 0.268708 | 0.0897   | 0        | 0        | 0        |  4487.07 | 2        | 9        | 0.0000   | 0.1085   | 43       |  2       | 0        |\n",
       "\n"
      ],
      "text/plain": [
       "  seq Credit_Default BE_SCORE_ON_OD BNI_SCORE_ON_OD BUSAGE BUSSTRUC MAXLINEUTIL\n",
       "1 7   1              637            292              67    1        0.8702     \n",
       "2 4   1              618            736              97    1        0.8449     \n",
       "3 8   1              452            357              25    1        1.0927     \n",
       "4 9   1              816            968              72    1        0.8626     \n",
       "5 7   1              782            968             151    2        1.0085     \n",
       "6 5   1              753            966              46    1        0.0897     \n",
       "  AVGLINEUTIL12 MAXLINEBALRT MAXTIMESLBAL12 DAYSDELQ TOTDAYSDELQ12 TOTACBAL\n",
       "1 0.768375      0.9535       0              0        0             26322.47\n",
       "2 0.552183      0.8449       0              0        0             84498.81\n",
       "3 0.962591      1.0927       8              0        0             32782.18\n",
       "4 0.636644      0.8583       0              0        0             64109.12\n",
       "5 0.737366      1.0085       1              0        0             55469.94\n",
       "6 0.268708      0.0897       0              0        0              4487.07\n",
       "  MAXDELQ TOTDELQ12 DEPOSITRT AVGDEPRT12 ALL_OPEN_TRADE_UT BR_OPEN_TRADE_UT\n",
       "1 0       4         0.0949    0.0486     57                57              \n",
       "2 1       5         0.0000    0.2137     75                75              \n",
       "3 1       1         0.0000    0.4224     91                95              \n",
       "4 0       0         0.0104    0.6894     50                 4              \n",
       "5 7       7         0.0000    0.0950     19                 0              \n",
       "6 2       9         0.0000    0.1085     43                 2              \n",
       "  BR_TRADE_PAST_DUE\n",
       "1 0                \n",
       "2 0                \n",
       "3 2                \n",
       "4 0                \n",
       "5 0                \n",
       "6 0                "
      ]
     },
     "metadata": {},
     "output_type": "display_data"
    }
   ],
   "source": [
    "head(df)"
   ]
  },
  {
   "cell_type": "code",
   "execution_count": 15,
   "metadata": {},
   "outputs": [],
   "source": [
    "#deleting all the rows with nan values\n",
    "df <- df[complete.cases(df), ]"
   ]
  },
  {
   "cell_type": "code",
   "execution_count": 16,
   "metadata": {},
   "outputs": [],
   "source": [
    "#creating the basic element table\n",
    "bet <- create_bet(df)"
   ]
  },
  {
   "cell_type": "markdown",
   "metadata": {},
   "source": [
    "### Univariate Statistics"
   ]
  },
  {
   "cell_type": "code",
   "execution_count": 17,
   "metadata": {},
   "outputs": [
    {
     "data": {
      "text/html": [
       "<table>\n",
       "<thead><tr><th></th><th scope=col>seq</th><th scope=col>Credit_Default</th><th scope=col>BE_SCORE_ON_OD</th><th scope=col>BNI_SCORE_ON_OD</th><th scope=col>BUSAGE</th><th scope=col>BUSSTRUC</th><th scope=col>MAXLINEUTIL</th><th scope=col>AVGLINEUTIL12</th><th scope=col>MAXLINEBALRT</th><th scope=col>MAXTIMESLBAL12</th><th scope=col>DAYSDELQ</th><th scope=col>TOTDAYSDELQ12</th><th scope=col>TOTACBAL</th><th scope=col>MAXDELQ</th><th scope=col>TOTDELQ12</th><th scope=col>DEPOSITRT</th><th scope=col>AVGDEPRT12</th><th scope=col>ALL_OPEN_TRADE_UT</th><th scope=col>BR_OPEN_TRADE_UT</th><th scope=col>BR_TRADE_PAST_DUE</th></tr></thead>\n",
       "<tbody>\n",
       "\t<tr><th scope=row>count</th><td> 1.953200e+04</td><td>1.953200e+04 </td><td>19532.000000 </td><td>19532.000000 </td><td>19532.000000 </td><td>1.953200e+04 </td><td>19532.000000 </td><td>1.953200e+04 </td><td>1.953200e+04 </td><td>19532.000000 </td><td>1.953200e+04 </td><td>1.953200e+04 </td><td>1.953200e+04 </td><td>1.953200e+04 </td><td>19532.000000 </td><td> 19532.00000 </td><td>19532.000000 </td><td>19532.0000000</td><td>19532.0000000</td><td>1.953200e+04 </td></tr>\n",
       "\t<tr><th scope=row>Mean</th><td> 6.005837e+00</td><td>8.493754e-02 </td><td>  709.535685 </td><td>  868.540856 </td><td>  112.957557 </td><td>1.614888e+00 </td><td>    2.117881 </td><td>9.631124e-01 </td><td>4.556448e+00 </td><td>    1.218001 </td><td>3.465595e-01 </td><td>3.880811e-02 </td><td>2.319331e+04 </td><td>1.478087e-01 </td><td>    0.686924 </td><td>    22.94392 </td><td>    8.548588 </td><td>   43.5485869</td><td>   40.6630657</td><td>4.684620e-02 </td></tr>\n",
       "\t<tr><th scope=row>Variance</th><td> 6.777869e+00</td><td>7.772315e-02 </td><td> 8565.347539 </td><td>36439.980053 </td><td>10501.754752 </td><td>8.483100e-01 </td><td>36547.096272 </td><td>2.241875e+03 </td><td>1.117929e+05 </td><td>    5.954216 </td><td>3.953979e+01 </td><td>1.014020e-01 </td><td>5.033392e+08 </td><td>3.513351e-01 </td><td>    2.786737 </td><td>435658.53594 </td><td>71915.434150 </td><td>  754.5727468</td><td> 1030.8944110</td><td>7.547285e-02 </td></tr>\n",
       "\t<tr><th scope=row>Standard_deviation</th><td> 2.603434e+00</td><td>2.787887e-01 </td><td>   92.549163 </td><td>  190.892588 </td><td>  102.478070 </td><td>9.210374e-01 </td><td>  191.172949 </td><td>4.734844e+01 </td><td>3.343545e+02 </td><td>    2.440126 </td><td>6.288067e+00 </td><td>3.184368e-01 </td><td>2.243522e+04 </td><td>5.927352e-01 </td><td>    1.669352 </td><td>   660.04434 </td><td>  268.170532 </td><td>   27.4694876</td><td>   32.1075445</td><td>2.747232e-01 </td></tr>\n",
       "\t<tr><th scope=row>coeff_of_variation</th><td> 4.334840e+01</td><td>3.282279e+02 </td><td>   13.043623 </td><td>   21.978539 </td><td>   90.722633 </td><td>5.703412e+01 </td><td> 9026.613156 </td><td>4.916191e+03 </td><td>7.338051e+03 </td><td>  200.338572 </td><td>1.814426e+03 </td><td>8.205418e+02 </td><td>9.673143e+01 </td><td>4.010150e+02 </td><td>  243.018458 </td><td>  2876.77223 </td><td> 3137.015496 </td><td>   63.0777931</td><td>   78.9599699</td><td>5.864365e+02 </td></tr>\n",
       "\t<tr><th scope=row>skewness</th><td>-8.363335e-03</td><td>2.978070e+00 </td><td>   -3.720252 </td><td>   -2.629212 </td><td>    2.289309 </td><td>1.472527e+00 </td><td>  131.056483 </td><td>1.283153e+02 </td><td>9.141112e+01 </td><td>    2.436549 </td><td>4.495701e+01 </td><td>1.266151e+01 </td><td>1.439913e+00 </td><td>6.155816e+00 </td><td>    3.075770 </td><td>    83.41606 </td><td>  118.199372 </td><td>    0.1251033</td><td>    0.4372614</td><td>9.789211e+00 </td></tr>\n",
       "\t<tr><th scope=row>Kurtosis</th><td>-1.243443e+00</td><td>6.869255e+00 </td><td>   25.136789 </td><td>    6.394327 </td><td>    9.496664 </td><td>1.184336e+00 </td><td>17695.404230 </td><td>1.711794e+04 </td><td>8.774358e+03 </td><td>    5.567562 </td><td>3.203713e+03 </td><td>2.304520e+02 </td><td>2.743754e+00 </td><td>5.209389e+01 </td><td>   10.076107 </td><td>  7861.56787 </td><td>15265.354077 </td><td>   -0.9185339</td><td>   -1.0191970</td><td>1.540860e+02 </td></tr>\n",
       "</tbody>\n",
       "</table>\n"
      ],
      "text/latex": [
       "\\begin{tabular}{r|llllllllllllllllllll}\n",
       "  & seq & Credit\\_Default & BE\\_SCORE\\_ON\\_OD & BNI\\_SCORE\\_ON\\_OD & BUSAGE & BUSSTRUC & MAXLINEUTIL & AVGLINEUTIL12 & MAXLINEBALRT & MAXTIMESLBAL12 & DAYSDELQ & TOTDAYSDELQ12 & TOTACBAL & MAXDELQ & TOTDELQ12 & DEPOSITRT & AVGDEPRT12 & ALL\\_OPEN\\_TRADE\\_UT & BR\\_OPEN\\_TRADE\\_UT & BR\\_TRADE\\_PAST\\_DUE\\\\\n",
       "\\hline\n",
       "\tcount &  1.953200e+04 & 1.953200e+04  & 19532.000000  & 19532.000000  & 19532.000000  & 1.953200e+04  & 19532.000000  & 1.953200e+04  & 1.953200e+04  & 19532.000000  & 1.953200e+04  & 1.953200e+04  & 1.953200e+04  & 1.953200e+04  & 19532.000000  &  19532.00000  & 19532.000000  & 19532.0000000 & 19532.0000000 & 1.953200e+04 \\\\\n",
       "\tMean &  6.005837e+00 & 8.493754e-02  &   709.535685  &   868.540856  &   112.957557  & 1.614888e+00  &     2.117881  & 9.631124e-01  & 4.556448e+00  &     1.218001  & 3.465595e-01  & 3.880811e-02  & 2.319331e+04  & 1.478087e-01  &     0.686924  &     22.94392  &     8.548588  &    43.5485869 &    40.6630657 & 4.684620e-02 \\\\\n",
       "\tVariance &  6.777869e+00 & 7.772315e-02  &  8565.347539  & 36439.980053  & 10501.754752  & 8.483100e-01  & 36547.096272  & 2.241875e+03  & 1.117929e+05  &     5.954216  & 3.953979e+01  & 1.014020e-01  & 5.033392e+08  & 3.513351e-01  &     2.786737  & 435658.53594  & 71915.434150  &   754.5727468 &  1030.8944110 & 7.547285e-02 \\\\\n",
       "\tStandard\\_deviation &  2.603434e+00 & 2.787887e-01  &    92.549163  &   190.892588  &   102.478070  & 9.210374e-01  &   191.172949  & 4.734844e+01  & 3.343545e+02  &     2.440126  & 6.288067e+00  & 3.184368e-01  & 2.243522e+04  & 5.927352e-01  &     1.669352  &    660.04434  &   268.170532  &    27.4694876 &    32.1075445 & 2.747232e-01 \\\\\n",
       "\tcoeff\\_of\\_variation &  4.334840e+01 & 3.282279e+02  &    13.043623  &    21.978539  &    90.722633  & 5.703412e+01  &  9026.613156  & 4.916191e+03  & 7.338051e+03  &   200.338572  & 1.814426e+03  & 8.205418e+02  & 9.673143e+01  & 4.010150e+02  &   243.018458  &   2876.77223  &  3137.015496  &    63.0777931 &    78.9599699 & 5.864365e+02 \\\\\n",
       "\tskewness & -8.363335e-03 & 2.978070e+00  &    -3.720252  &    -2.629212  &     2.289309  & 1.472527e+00  &   131.056483  & 1.283153e+02  & 9.141112e+01  &     2.436549  & 4.495701e+01  & 1.266151e+01  & 1.439913e+00  & 6.155816e+00  &     3.075770  &     83.41606  &   118.199372  &     0.1251033 &     0.4372614 & 9.789211e+00 \\\\\n",
       "\tKurtosis & -1.243443e+00 & 6.869255e+00  &    25.136789  &     6.394327  &     9.496664  & 1.184336e+00  & 17695.404230  & 1.711794e+04  & 8.774358e+03  &     5.567562  & 3.203713e+03  & 2.304520e+02  & 2.743754e+00  & 5.209389e+01  &    10.076107  &   7861.56787  & 15265.354077  &    -0.9185339 &    -1.0191970 & 1.540860e+02 \\\\\n",
       "\\end{tabular}\n"
      ],
      "text/markdown": [
       "\n",
       "| <!--/--> | seq | Credit_Default | BE_SCORE_ON_OD | BNI_SCORE_ON_OD | BUSAGE | BUSSTRUC | MAXLINEUTIL | AVGLINEUTIL12 | MAXLINEBALRT | MAXTIMESLBAL12 | DAYSDELQ | TOTDAYSDELQ12 | TOTACBAL | MAXDELQ | TOTDELQ12 | DEPOSITRT | AVGDEPRT12 | ALL_OPEN_TRADE_UT | BR_OPEN_TRADE_UT | BR_TRADE_PAST_DUE |\n",
       "|---|---|---|---|---|---|---|---|---|---|---|---|---|---|---|---|---|---|---|---|---|\n",
       "| count |  1.953200e+04 | 1.953200e+04  | 19532.000000  | 19532.000000  | 19532.000000  | 1.953200e+04  | 19532.000000  | 1.953200e+04  | 1.953200e+04  | 19532.000000  | 1.953200e+04  | 1.953200e+04  | 1.953200e+04  | 1.953200e+04  | 19532.000000  |  19532.00000  | 19532.000000  | 19532.0000000 | 19532.0000000 | 1.953200e+04  |\n",
       "| Mean |  6.005837e+00 | 8.493754e-02  |   709.535685  |   868.540856  |   112.957557  | 1.614888e+00  |     2.117881  | 9.631124e-01  | 4.556448e+00  |     1.218001  | 3.465595e-01  | 3.880811e-02  | 2.319331e+04  | 1.478087e-01  |     0.686924  |     22.94392  |     8.548588  |    43.5485869 |    40.6630657 | 4.684620e-02  |\n",
       "| Variance |  6.777869e+00 | 7.772315e-02  |  8565.347539  | 36439.980053  | 10501.754752  | 8.483100e-01  | 36547.096272  | 2.241875e+03  | 1.117929e+05  |     5.954216  | 3.953979e+01  | 1.014020e-01  | 5.033392e+08  | 3.513351e-01  |     2.786737  | 435658.53594  | 71915.434150  |   754.5727468 |  1030.8944110 | 7.547285e-02  |\n",
       "| Standard_deviation |  2.603434e+00 | 2.787887e-01  |    92.549163  |   190.892588  |   102.478070  | 9.210374e-01  |   191.172949  | 4.734844e+01  | 3.343545e+02  |     2.440126  | 6.288067e+00  | 3.184368e-01  | 2.243522e+04  | 5.927352e-01  |     1.669352  |    660.04434  |   268.170532  |    27.4694876 |    32.1075445 | 2.747232e-01  |\n",
       "| coeff_of_variation |  4.334840e+01 | 3.282279e+02  |    13.043623  |    21.978539  |    90.722633  | 5.703412e+01  |  9026.613156  | 4.916191e+03  | 7.338051e+03  |   200.338572  | 1.814426e+03  | 8.205418e+02  | 9.673143e+01  | 4.010150e+02  |   243.018458  |   2876.77223  |  3137.015496  |    63.0777931 |    78.9599699 | 5.864365e+02  |\n",
       "| skewness | -8.363335e-03 | 2.978070e+00  |    -3.720252  |    -2.629212  |     2.289309  | 1.472527e+00  |   131.056483  | 1.283153e+02  | 9.141112e+01  |     2.436549  | 4.495701e+01  | 1.266151e+01  | 1.439913e+00  | 6.155816e+00  |     3.075770  |     83.41606  |   118.199372  |     0.1251033 |     0.4372614 | 9.789211e+00  |\n",
       "| Kurtosis | -1.243443e+00 | 6.869255e+00  |    25.136789  |     6.394327  |     9.496664  | 1.184336e+00  | 17695.404230  | 1.711794e+04  | 8.774358e+03  |     5.567562  | 3.203713e+03  | 2.304520e+02  | 2.743754e+00  | 5.209389e+01  |    10.076107  |   7861.56787  | 15265.354077  |    -0.9185339 |    -1.0191970 | 1.540860e+02  |\n",
       "\n"
      ],
      "text/plain": [
       "                   seq           Credit_Default BE_SCORE_ON_OD BNI_SCORE_ON_OD\n",
       "count               1.953200e+04 1.953200e+04   19532.000000   19532.000000   \n",
       "Mean                6.005837e+00 8.493754e-02     709.535685     868.540856   \n",
       "Variance            6.777869e+00 7.772315e-02    8565.347539   36439.980053   \n",
       "Standard_deviation  2.603434e+00 2.787887e-01      92.549163     190.892588   \n",
       "coeff_of_variation  4.334840e+01 3.282279e+02      13.043623      21.978539   \n",
       "skewness           -8.363335e-03 2.978070e+00      -3.720252      -2.629212   \n",
       "Kurtosis           -1.243443e+00 6.869255e+00      25.136789       6.394327   \n",
       "                   BUSAGE       BUSSTRUC     MAXLINEUTIL  AVGLINEUTIL12\n",
       "count              19532.000000 1.953200e+04 19532.000000 1.953200e+04 \n",
       "Mean                 112.957557 1.614888e+00     2.117881 9.631124e-01 \n",
       "Variance           10501.754752 8.483100e-01 36547.096272 2.241875e+03 \n",
       "Standard_deviation   102.478070 9.210374e-01   191.172949 4.734844e+01 \n",
       "coeff_of_variation    90.722633 5.703412e+01  9026.613156 4.916191e+03 \n",
       "skewness               2.289309 1.472527e+00   131.056483 1.283153e+02 \n",
       "Kurtosis               9.496664 1.184336e+00 17695.404230 1.711794e+04 \n",
       "                   MAXLINEBALRT MAXTIMESLBAL12 DAYSDELQ     TOTDAYSDELQ12\n",
       "count              1.953200e+04 19532.000000   1.953200e+04 1.953200e+04 \n",
       "Mean               4.556448e+00     1.218001   3.465595e-01 3.880811e-02 \n",
       "Variance           1.117929e+05     5.954216   3.953979e+01 1.014020e-01 \n",
       "Standard_deviation 3.343545e+02     2.440126   6.288067e+00 3.184368e-01 \n",
       "coeff_of_variation 7.338051e+03   200.338572   1.814426e+03 8.205418e+02 \n",
       "skewness           9.141112e+01     2.436549   4.495701e+01 1.266151e+01 \n",
       "Kurtosis           8.774358e+03     5.567562   3.203713e+03 2.304520e+02 \n",
       "                   TOTACBAL     MAXDELQ      TOTDELQ12    DEPOSITRT   \n",
       "count              1.953200e+04 1.953200e+04 19532.000000  19532.00000\n",
       "Mean               2.319331e+04 1.478087e-01     0.686924     22.94392\n",
       "Variance           5.033392e+08 3.513351e-01     2.786737 435658.53594\n",
       "Standard_deviation 2.243522e+04 5.927352e-01     1.669352    660.04434\n",
       "coeff_of_variation 9.673143e+01 4.010150e+02   243.018458   2876.77223\n",
       "skewness           1.439913e+00 6.155816e+00     3.075770     83.41606\n",
       "Kurtosis           2.743754e+00 5.209389e+01    10.076107   7861.56787\n",
       "                   AVGDEPRT12   ALL_OPEN_TRADE_UT BR_OPEN_TRADE_UT\n",
       "count              19532.000000 19532.0000000     19532.0000000   \n",
       "Mean                   8.548588    43.5485869        40.6630657   \n",
       "Variance           71915.434150   754.5727468      1030.8944110   \n",
       "Standard_deviation   268.170532    27.4694876        32.1075445   \n",
       "coeff_of_variation  3137.015496    63.0777931        78.9599699   \n",
       "skewness             118.199372     0.1251033         0.4372614   \n",
       "Kurtosis           15265.354077    -0.9185339        -1.0191970   \n",
       "                   BR_TRADE_PAST_DUE\n",
       "count              1.953200e+04     \n",
       "Mean               4.684620e-02     \n",
       "Variance           7.547285e-02     \n",
       "Standard_deviation 2.747232e-01     \n",
       "coeff_of_variation 5.864365e+02     \n",
       "skewness           9.789211e+00     \n",
       "Kurtosis           1.540860e+02     "
      ]
     },
     "metadata": {},
     "output_type": "display_data"
    }
   ],
   "source": [
    "#use the below function for univariate exploration\n",
    "univariate(bet)"
   ]
  },
  {
   "cell_type": "markdown",
   "metadata": {},
   "source": [
    "### Bivariate Statistics"
   ]
  },
  {
   "cell_type": "code",
   "execution_count": 18,
   "metadata": {},
   "outputs": [
    {
     "data": {
      "text/html": [
       "<table>\n",
       "<thead><tr><th></th><th scope=col>seq</th><th scope=col>Credit_Default</th><th scope=col>BE_SCORE_ON_OD</th><th scope=col>BNI_SCORE_ON_OD</th><th scope=col>BUSAGE</th><th scope=col>BUSSTRUC</th><th scope=col>MAXLINEUTIL</th><th scope=col>AVGLINEUTIL12</th><th scope=col>MAXLINEBALRT</th><th scope=col>MAXTIMESLBAL12</th><th scope=col>DAYSDELQ</th><th scope=col>TOTDAYSDELQ12</th><th scope=col>TOTACBAL</th><th scope=col>MAXDELQ</th><th scope=col>TOTDELQ12</th><th scope=col>DEPOSITRT</th><th scope=col>AVGDEPRT12</th><th scope=col>ALL_OPEN_TRADE_UT</th><th scope=col>BR_OPEN_TRADE_UT</th><th scope=col>BR_TRADE_PAST_DUE</th></tr></thead>\n",
       "<tbody>\n",
       "\t<tr><th scope=row>seq</th><td> 1.0000000000</td><td>-0.003857295 </td><td> 0.0057890059</td><td> 0.002450344 </td><td> 0.008189125 </td><td>-0.017980082 </td><td> 0.0001975473</td><td> 1.707026e-03</td><td>-0.0033674873</td><td>-0.009758555 </td><td>-0.0055997127</td><td>-0.0059548276</td><td>-0.0185289791</td><td>-0.003710930 </td><td>-0.007755124 </td><td> 0.0055106553</td><td> 0.0040269182</td><td>-0.009882040 </td><td>-8.265925e-03</td><td> 0.0009777936</td></tr>\n",
       "\t<tr><th scope=row>Credit_Default</th><td>-0.0038572952</td><td> 1.000000000 </td><td>-0.1759565020</td><td>-0.234950338 </td><td>-0.078933144 </td><td>-0.004605849 </td><td> 0.0229596698</td><td> 2.349160e-02</td><td> 0.0192320725</td><td> 0.221666783 </td><td> 0.1408001929</td><td> 0.1612571474</td><td> 0.0661060698</td><td> 0.355923136 </td><td> 0.306309633 </td><td>-0.0079650571</td><td>-0.0080974231</td><td> 0.131427609 </td><td> 1.525778e-01</td><td> 0.1445783900</td></tr>\n",
       "\t<tr><th scope=row>BE_SCORE_ON_OD</th><td> 0.0057890059</td><td>-0.175956502 </td><td> 1.0000000000</td><td> 0.489298346 </td><td> 0.135801995 </td><td> 0.031687434 </td><td>-0.0204286502</td><td>-1.919782e-02</td><td>-0.0263324045</td><td>-0.254621014 </td><td>-0.0291569709</td><td>-0.0346404720</td><td>-0.0240464625</td><td>-0.085040679 </td><td>-0.078565178 </td><td> 0.0007769719</td><td> 0.0046224527</td><td>-0.309833262 </td><td>-3.509629e-01</td><td>-0.1891954260</td></tr>\n",
       "\t<tr><th scope=row>BNI_SCORE_ON_OD</th><td> 0.0024503439</td><td>-0.234950338 </td><td> 0.4892983464</td><td> 1.000000000 </td><td> 0.143782439 </td><td> 0.030380387 </td><td>-0.0265705863</td><td>-2.311269e-02</td><td>-0.0415989512</td><td>-0.271531407 </td><td>-0.0329952751</td><td>-0.0496506095</td><td>-0.0389659012</td><td>-0.099149008 </td><td>-0.084002670 </td><td> 0.0070240872</td><td> 0.0071532057</td><td>-0.348880798 </td><td>-3.937726e-01</td><td>-0.1813015511</td></tr>\n",
       "\t<tr><th scope=row>BUSAGE</th><td> 0.0081891246</td><td>-0.078933144 </td><td> 0.1358019950</td><td> 0.143782439 </td><td> 1.000000000 </td><td> 0.073963135 </td><td>-0.0049617448</td><td>-5.930075e-03</td><td>-0.0021196076</td><td>-0.036571334 </td><td>-0.0201183511</td><td>-0.0388005419</td><td> 0.0699636660</td><td>-0.008967708 </td><td> 0.035284382 </td><td> 0.0035588935</td><td> 0.0117316050</td><td>-0.103433918 </td><td>-9.855567e-02</td><td>-0.0095077163</td></tr>\n",
       "\t<tr><th scope=row>BUSSTRUC</th><td>-0.0179800824</td><td>-0.004605849 </td><td> 0.0316874342</td><td> 0.030380387 </td><td> 0.073963135 </td><td> 1.000000000 </td><td> 0.0018876248</td><td> 1.276216e-03</td><td>-0.0035433684</td><td>-0.022648277 </td><td> 0.0062041870</td><td> 0.0137755882</td><td>-0.0410205259</td><td> 0.011986838 </td><td> 0.031002558 </td><td>-0.0051853133</td><td>-0.0098786928</td><td> 0.016220136 </td><td> 5.350680e-03</td><td>-0.0074102534</td></tr>\n",
       "\t<tr><th scope=row>MAXLINEUTIL</th><td> 0.0001975473</td><td> 0.022959670 </td><td>-0.0204286502</td><td>-0.026570586 </td><td>-0.004961745 </td><td> 0.001887625 </td><td> 1.0000000000</td><td> 9.589929e-01</td><td> 0.7145730516</td><td> 0.012885864 </td><td>-0.0003199329</td><td>-0.0009513971</td><td> 0.0089323997</td><td> 0.057003188 </td><td> 0.015514060 </td><td>-0.0003495319</td><td>-0.0003207706</td><td>-0.002804847 </td><td>-8.426213e-04</td><td>-0.0013017440</td></tr>\n",
       "\t<tr><th scope=row>AVGLINEUTIL12</th><td> 0.0017070264</td><td> 0.023491599 </td><td>-0.0191978151</td><td>-0.023112690 </td><td>-0.005930075 </td><td> 0.001276216 </td><td> 0.9589928780</td><td> 1.000000e+00</td><td> 0.5981247607</td><td> 0.013569018 </td><td>-0.0001330866</td><td>-0.0008169329</td><td> 0.0103748284</td><td> 0.056704468 </td><td> 0.014534685 </td><td>-0.0004870736</td><td>-0.0005101826</td><td>-0.003836902 </td><td> 8.436924e-05</td><td>-0.0010748900</td></tr>\n",
       "\t<tr><th scope=row>MAXLINEBALRT</th><td>-0.0033674873</td><td> 0.019232073 </td><td>-0.0263324045</td><td>-0.041598951 </td><td>-0.002119608 </td><td>-0.003543368 </td><td> 0.7145730516</td><td> 5.981248e-01</td><td> 1.0000000000</td><td> 0.028412437 </td><td>-0.0005544798</td><td>-0.0013651990</td><td>-0.0008988493</td><td> 0.030786057 </td><td> 0.011389425 </td><td> 0.0013271215</td><td>-0.0001850379</td><td> 0.008033711 </td><td> 3.777263e-03</td><td>-0.0019267129</td></tr>\n",
       "\t<tr><th scope=row>MAXTIMESLBAL12</th><td>-0.0097585551</td><td> 0.221666783 </td><td>-0.2546210142</td><td>-0.271531407 </td><td>-0.036571334 </td><td>-0.022648277 </td><td> 0.0128858640</td><td> 1.356902e-02</td><td> 0.0284124365</td><td> 1.000000000 </td><td> 0.0723853091</td><td> 0.0864311955</td><td> 0.1217526257</td><td> 0.096588399 </td><td> 0.073792264 </td><td>-0.0051201960</td><td>-0.0080475478</td><td> 0.198133960 </td><td> 2.285219e-01</td><td> 0.1139904186</td></tr>\n",
       "\t<tr><th scope=row>DAYSDELQ</th><td>-0.0055997127</td><td> 0.140800193 </td><td>-0.0291569709</td><td>-0.032995275 </td><td>-0.020118351 </td><td> 0.006204187 </td><td>-0.0003199329</td><td>-1.330866e-04</td><td>-0.0005544798</td><td> 0.072385309 </td><td> 1.0000000000</td><td> 0.5722154141</td><td>-0.0354444528</td><td> 0.103497252 </td><td> 0.057764049 </td><td>-0.0011930707</td><td>-0.0009605161</td><td> 0.022309996 </td><td> 2.961979e-02</td><td> 0.0237365711</td></tr>\n",
       "\t<tr><th scope=row>TOTDAYSDELQ12</th><td>-0.0059548276</td><td> 0.161257147 </td><td>-0.0346404720</td><td>-0.049650609 </td><td>-0.038800542 </td><td> 0.013775588 </td><td>-0.0009513971</td><td>-8.169329e-04</td><td>-0.0013651990</td><td> 0.086431195 </td><td> 0.5722154141</td><td> 1.0000000000</td><td>-0.0667362496</td><td> 0.077566843 </td><td> 0.063210930 </td><td>-0.0024668905</td><td>-0.0020256503</td><td> 0.037226166 </td><td> 4.810425e-02</td><td> 0.0160886123</td></tr>\n",
       "\t<tr><th scope=row>TOTACBAL</th><td>-0.0185289791</td><td> 0.066106070 </td><td>-0.0240464625</td><td>-0.038965901 </td><td> 0.069963666 </td><td>-0.041020526 </td><td> 0.0089323997</td><td> 1.037483e-02</td><td>-0.0008988493</td><td> 0.121752626 </td><td>-0.0354444528</td><td>-0.0667362496</td><td> 1.0000000000</td><td> 0.065104093 </td><td> 0.134711785 </td><td>-0.0337827739</td><td>-0.0273574999</td><td> 0.040292756 </td><td> 5.321649e-02</td><td> 0.0357136597</td></tr>\n",
       "\t<tr><th scope=row>MAXDELQ</th><td>-0.0037109295</td><td> 0.355923136 </td><td>-0.0850406792</td><td>-0.099149008 </td><td>-0.008967708 </td><td> 0.011986838 </td><td> 0.0570031885</td><td> 5.670447e-02</td><td> 0.0307860572</td><td> 0.096588399 </td><td> 0.1034972521</td><td> 0.0775668432</td><td> 0.0651040930</td><td> 1.000000000 </td><td> 0.619190721 </td><td>-0.0086621664</td><td>-0.0076475162</td><td> 0.050009743 </td><td> 6.358766e-02</td><td> 0.0945605627</td></tr>\n",
       "\t<tr><th scope=row>TOTDELQ12</th><td>-0.0077551241</td><td> 0.306309633 </td><td>-0.0785651780</td><td>-0.084002670 </td><td> 0.035284382 </td><td> 0.031002558 </td><td> 0.0155140601</td><td> 1.453469e-02</td><td> 0.0113894254</td><td> 0.073792264 </td><td> 0.0577640491</td><td> 0.0632109297</td><td> 0.1347117854</td><td> 0.619190721 </td><td> 1.000000000 </td><td>-0.0126928951</td><td>-0.0126143679</td><td> 0.050328691 </td><td> 6.450872e-02</td><td> 0.0588847985</td></tr>\n",
       "\t<tr><th scope=row>DEPOSITRT</th><td> 0.0055106553</td><td>-0.007965057 </td><td> 0.0007769719</td><td> 0.007024087 </td><td> 0.003558894 </td><td>-0.005185313 </td><td>-0.0003495319</td><td>-4.870736e-04</td><td> 0.0013271215</td><td>-0.005120196 </td><td>-0.0011930707</td><td>-0.0024668905</td><td>-0.0337827739</td><td>-0.008662166 </td><td>-0.012692895 </td><td> 1.0000000000</td><td> 0.7488753816</td><td>-0.009476512 </td><td>-7.983472e-03</td><td>-0.0034590645</td></tr>\n",
       "\t<tr><th scope=row>AVGDEPRT12</th><td> 0.0040269182</td><td>-0.008097423 </td><td> 0.0046224527</td><td> 0.007153206 </td><td> 0.011731605 </td><td>-0.009878693 </td><td>-0.0003207706</td><td>-5.101826e-04</td><td>-0.0001850379</td><td>-0.008047548 </td><td>-0.0009605161</td><td>-0.0020256503</td><td>-0.0273574999</td><td>-0.007647516 </td><td>-0.012614368 </td><td> 0.7488753816</td><td> 1.0000000000</td><td>-0.019362514 </td><td>-1.616100e-02</td><td>-0.0033593032</td></tr>\n",
       "\t<tr><th scope=row>ALL_OPEN_TRADE_UT</th><td>-0.0098820396</td><td> 0.131427609 </td><td>-0.3098332619</td><td>-0.348880798 </td><td>-0.103433918 </td><td> 0.016220136 </td><td>-0.0028048471</td><td>-3.836902e-03</td><td> 0.0080337112</td><td> 0.198133960 </td><td> 0.0223099955</td><td> 0.0372261661</td><td> 0.0402927565</td><td> 0.050009743 </td><td> 0.050328691 </td><td>-0.0094765121</td><td>-0.0193625136</td><td> 1.000000000 </td><td> 8.351234e-01</td><td> 0.1384278832</td></tr>\n",
       "\t<tr><th scope=row>BR_OPEN_TRADE_UT</th><td>-0.0082659252</td><td> 0.152577773 </td><td>-0.3509629445</td><td>-0.393772601 </td><td>-0.098555669 </td><td> 0.005350680 </td><td>-0.0008426213</td><td> 8.436924e-05</td><td> 0.0037772631</td><td> 0.228521922 </td><td> 0.0296197873</td><td> 0.0481042524</td><td> 0.0532164942</td><td> 0.063587658 </td><td> 0.064508721 </td><td>-0.0079834719</td><td>-0.0161610016</td><td> 0.835123377 </td><td> 1.000000e+00</td><td> 0.1574030677</td></tr>\n",
       "\t<tr><th scope=row>BR_TRADE_PAST_DUE</th><td> 0.0009777936</td><td> 0.144578390 </td><td>-0.1891954260</td><td>-0.181301551 </td><td>-0.009507716 </td><td>-0.007410253 </td><td>-0.0013017440</td><td>-1.074890e-03</td><td>-0.0019267129</td><td> 0.113990419 </td><td> 0.0237365711</td><td> 0.0160886123</td><td> 0.0357136597</td><td> 0.094560563 </td><td> 0.058884798 </td><td>-0.0034590645</td><td>-0.0033593032</td><td> 0.138427883 </td><td> 1.574031e-01</td><td> 1.0000000000</td></tr>\n",
       "</tbody>\n",
       "</table>\n"
      ],
      "text/latex": [
       "\\begin{tabular}{r|llllllllllllllllllll}\n",
       "  & seq & Credit\\_Default & BE\\_SCORE\\_ON\\_OD & BNI\\_SCORE\\_ON\\_OD & BUSAGE & BUSSTRUC & MAXLINEUTIL & AVGLINEUTIL12 & MAXLINEBALRT & MAXTIMESLBAL12 & DAYSDELQ & TOTDAYSDELQ12 & TOTACBAL & MAXDELQ & TOTDELQ12 & DEPOSITRT & AVGDEPRT12 & ALL\\_OPEN\\_TRADE\\_UT & BR\\_OPEN\\_TRADE\\_UT & BR\\_TRADE\\_PAST\\_DUE\\\\\n",
       "\\hline\n",
       "\tseq &  1.0000000000 & -0.003857295  &  0.0057890059 &  0.002450344  &  0.008189125  & -0.017980082  &  0.0001975473 &  1.707026e-03 & -0.0033674873 & -0.009758555  & -0.0055997127 & -0.0059548276 & -0.0185289791 & -0.003710930  & -0.007755124  &  0.0055106553 &  0.0040269182 & -0.009882040  & -8.265925e-03 &  0.0009777936\\\\\n",
       "\tCredit\\_Default & -0.0038572952 &  1.000000000  & -0.1759565020 & -0.234950338  & -0.078933144  & -0.004605849  &  0.0229596698 &  2.349160e-02 &  0.0192320725 &  0.221666783  &  0.1408001929 &  0.1612571474 &  0.0661060698 &  0.355923136  &  0.306309633  & -0.0079650571 & -0.0080974231 &  0.131427609  &  1.525778e-01 &  0.1445783900\\\\\n",
       "\tBE\\_SCORE\\_ON\\_OD &  0.0057890059 & -0.175956502  &  1.0000000000 &  0.489298346  &  0.135801995  &  0.031687434  & -0.0204286502 & -1.919782e-02 & -0.0263324045 & -0.254621014  & -0.0291569709 & -0.0346404720 & -0.0240464625 & -0.085040679  & -0.078565178  &  0.0007769719 &  0.0046224527 & -0.309833262  & -3.509629e-01 & -0.1891954260\\\\\n",
       "\tBNI\\_SCORE\\_ON\\_OD &  0.0024503439 & -0.234950338  &  0.4892983464 &  1.000000000  &  0.143782439  &  0.030380387  & -0.0265705863 & -2.311269e-02 & -0.0415989512 & -0.271531407  & -0.0329952751 & -0.0496506095 & -0.0389659012 & -0.099149008  & -0.084002670  &  0.0070240872 &  0.0071532057 & -0.348880798  & -3.937726e-01 & -0.1813015511\\\\\n",
       "\tBUSAGE &  0.0081891246 & -0.078933144  &  0.1358019950 &  0.143782439  &  1.000000000  &  0.073963135  & -0.0049617448 & -5.930075e-03 & -0.0021196076 & -0.036571334  & -0.0201183511 & -0.0388005419 &  0.0699636660 & -0.008967708  &  0.035284382  &  0.0035588935 &  0.0117316050 & -0.103433918  & -9.855567e-02 & -0.0095077163\\\\\n",
       "\tBUSSTRUC & -0.0179800824 & -0.004605849  &  0.0316874342 &  0.030380387  &  0.073963135  &  1.000000000  &  0.0018876248 &  1.276216e-03 & -0.0035433684 & -0.022648277  &  0.0062041870 &  0.0137755882 & -0.0410205259 &  0.011986838  &  0.031002558  & -0.0051853133 & -0.0098786928 &  0.016220136  &  5.350680e-03 & -0.0074102534\\\\\n",
       "\tMAXLINEUTIL &  0.0001975473 &  0.022959670  & -0.0204286502 & -0.026570586  & -0.004961745  &  0.001887625  &  1.0000000000 &  9.589929e-01 &  0.7145730516 &  0.012885864  & -0.0003199329 & -0.0009513971 &  0.0089323997 &  0.057003188  &  0.015514060  & -0.0003495319 & -0.0003207706 & -0.002804847  & -8.426213e-04 & -0.0013017440\\\\\n",
       "\tAVGLINEUTIL12 &  0.0017070264 &  0.023491599  & -0.0191978151 & -0.023112690  & -0.005930075  &  0.001276216  &  0.9589928780 &  1.000000e+00 &  0.5981247607 &  0.013569018  & -0.0001330866 & -0.0008169329 &  0.0103748284 &  0.056704468  &  0.014534685  & -0.0004870736 & -0.0005101826 & -0.003836902  &  8.436924e-05 & -0.0010748900\\\\\n",
       "\tMAXLINEBALRT & -0.0033674873 &  0.019232073  & -0.0263324045 & -0.041598951  & -0.002119608  & -0.003543368  &  0.7145730516 &  5.981248e-01 &  1.0000000000 &  0.028412437  & -0.0005544798 & -0.0013651990 & -0.0008988493 &  0.030786057  &  0.011389425  &  0.0013271215 & -0.0001850379 &  0.008033711  &  3.777263e-03 & -0.0019267129\\\\\n",
       "\tMAXTIMESLBAL12 & -0.0097585551 &  0.221666783  & -0.2546210142 & -0.271531407  & -0.036571334  & -0.022648277  &  0.0128858640 &  1.356902e-02 &  0.0284124365 &  1.000000000  &  0.0723853091 &  0.0864311955 &  0.1217526257 &  0.096588399  &  0.073792264  & -0.0051201960 & -0.0080475478 &  0.198133960  &  2.285219e-01 &  0.1139904186\\\\\n",
       "\tDAYSDELQ & -0.0055997127 &  0.140800193  & -0.0291569709 & -0.032995275  & -0.020118351  &  0.006204187  & -0.0003199329 & -1.330866e-04 & -0.0005544798 &  0.072385309  &  1.0000000000 &  0.5722154141 & -0.0354444528 &  0.103497252  &  0.057764049  & -0.0011930707 & -0.0009605161 &  0.022309996  &  2.961979e-02 &  0.0237365711\\\\\n",
       "\tTOTDAYSDELQ12 & -0.0059548276 &  0.161257147  & -0.0346404720 & -0.049650609  & -0.038800542  &  0.013775588  & -0.0009513971 & -8.169329e-04 & -0.0013651990 &  0.086431195  &  0.5722154141 &  1.0000000000 & -0.0667362496 &  0.077566843  &  0.063210930  & -0.0024668905 & -0.0020256503 &  0.037226166  &  4.810425e-02 &  0.0160886123\\\\\n",
       "\tTOTACBAL & -0.0185289791 &  0.066106070  & -0.0240464625 & -0.038965901  &  0.069963666  & -0.041020526  &  0.0089323997 &  1.037483e-02 & -0.0008988493 &  0.121752626  & -0.0354444528 & -0.0667362496 &  1.0000000000 &  0.065104093  &  0.134711785  & -0.0337827739 & -0.0273574999 &  0.040292756  &  5.321649e-02 &  0.0357136597\\\\\n",
       "\tMAXDELQ & -0.0037109295 &  0.355923136  & -0.0850406792 & -0.099149008  & -0.008967708  &  0.011986838  &  0.0570031885 &  5.670447e-02 &  0.0307860572 &  0.096588399  &  0.1034972521 &  0.0775668432 &  0.0651040930 &  1.000000000  &  0.619190721  & -0.0086621664 & -0.0076475162 &  0.050009743  &  6.358766e-02 &  0.0945605627\\\\\n",
       "\tTOTDELQ12 & -0.0077551241 &  0.306309633  & -0.0785651780 & -0.084002670  &  0.035284382  &  0.031002558  &  0.0155140601 &  1.453469e-02 &  0.0113894254 &  0.073792264  &  0.0577640491 &  0.0632109297 &  0.1347117854 &  0.619190721  &  1.000000000  & -0.0126928951 & -0.0126143679 &  0.050328691  &  6.450872e-02 &  0.0588847985\\\\\n",
       "\tDEPOSITRT &  0.0055106553 & -0.007965057  &  0.0007769719 &  0.007024087  &  0.003558894  & -0.005185313  & -0.0003495319 & -4.870736e-04 &  0.0013271215 & -0.005120196  & -0.0011930707 & -0.0024668905 & -0.0337827739 & -0.008662166  & -0.012692895  &  1.0000000000 &  0.7488753816 & -0.009476512  & -7.983472e-03 & -0.0034590645\\\\\n",
       "\tAVGDEPRT12 &  0.0040269182 & -0.008097423  &  0.0046224527 &  0.007153206  &  0.011731605  & -0.009878693  & -0.0003207706 & -5.101826e-04 & -0.0001850379 & -0.008047548  & -0.0009605161 & -0.0020256503 & -0.0273574999 & -0.007647516  & -0.012614368  &  0.7488753816 &  1.0000000000 & -0.019362514  & -1.616100e-02 & -0.0033593032\\\\\n",
       "\tALL\\_OPEN\\_TRADE\\_UT & -0.0098820396 &  0.131427609  & -0.3098332619 & -0.348880798  & -0.103433918  &  0.016220136  & -0.0028048471 & -3.836902e-03 &  0.0080337112 &  0.198133960  &  0.0223099955 &  0.0372261661 &  0.0402927565 &  0.050009743  &  0.050328691  & -0.0094765121 & -0.0193625136 &  1.000000000  &  8.351234e-01 &  0.1384278832\\\\\n",
       "\tBR\\_OPEN\\_TRADE\\_UT & -0.0082659252 &  0.152577773  & -0.3509629445 & -0.393772601  & -0.098555669  &  0.005350680  & -0.0008426213 &  8.436924e-05 &  0.0037772631 &  0.228521922  &  0.0296197873 &  0.0481042524 &  0.0532164942 &  0.063587658  &  0.064508721  & -0.0079834719 & -0.0161610016 &  0.835123377  &  1.000000e+00 &  0.1574030677\\\\\n",
       "\tBR\\_TRADE\\_PAST\\_DUE &  0.0009777936 &  0.144578390  & -0.1891954260 & -0.181301551  & -0.009507716  & -0.007410253  & -0.0013017440 & -1.074890e-03 & -0.0019267129 &  0.113990419  &  0.0237365711 &  0.0160886123 &  0.0357136597 &  0.094560563  &  0.058884798  & -0.0034590645 & -0.0033593032 &  0.138427883  &  1.574031e-01 &  1.0000000000\\\\\n",
       "\\end{tabular}\n"
      ],
      "text/markdown": [
       "\n",
       "| <!--/--> | seq | Credit_Default | BE_SCORE_ON_OD | BNI_SCORE_ON_OD | BUSAGE | BUSSTRUC | MAXLINEUTIL | AVGLINEUTIL12 | MAXLINEBALRT | MAXTIMESLBAL12 | DAYSDELQ | TOTDAYSDELQ12 | TOTACBAL | MAXDELQ | TOTDELQ12 | DEPOSITRT | AVGDEPRT12 | ALL_OPEN_TRADE_UT | BR_OPEN_TRADE_UT | BR_TRADE_PAST_DUE |\n",
       "|---|---|---|---|---|---|---|---|---|---|---|---|---|---|---|---|---|---|---|---|---|\n",
       "| seq |  1.0000000000 | -0.003857295  |  0.0057890059 |  0.002450344  |  0.008189125  | -0.017980082  |  0.0001975473 |  1.707026e-03 | -0.0033674873 | -0.009758555  | -0.0055997127 | -0.0059548276 | -0.0185289791 | -0.003710930  | -0.007755124  |  0.0055106553 |  0.0040269182 | -0.009882040  | -8.265925e-03 |  0.0009777936 |\n",
       "| Credit_Default | -0.0038572952 |  1.000000000  | -0.1759565020 | -0.234950338  | -0.078933144  | -0.004605849  |  0.0229596698 |  2.349160e-02 |  0.0192320725 |  0.221666783  |  0.1408001929 |  0.1612571474 |  0.0661060698 |  0.355923136  |  0.306309633  | -0.0079650571 | -0.0080974231 |  0.131427609  |  1.525778e-01 |  0.1445783900 |\n",
       "| BE_SCORE_ON_OD |  0.0057890059 | -0.175956502  |  1.0000000000 |  0.489298346  |  0.135801995  |  0.031687434  | -0.0204286502 | -1.919782e-02 | -0.0263324045 | -0.254621014  | -0.0291569709 | -0.0346404720 | -0.0240464625 | -0.085040679  | -0.078565178  |  0.0007769719 |  0.0046224527 | -0.309833262  | -3.509629e-01 | -0.1891954260 |\n",
       "| BNI_SCORE_ON_OD |  0.0024503439 | -0.234950338  |  0.4892983464 |  1.000000000  |  0.143782439  |  0.030380387  | -0.0265705863 | -2.311269e-02 | -0.0415989512 | -0.271531407  | -0.0329952751 | -0.0496506095 | -0.0389659012 | -0.099149008  | -0.084002670  |  0.0070240872 |  0.0071532057 | -0.348880798  | -3.937726e-01 | -0.1813015511 |\n",
       "| BUSAGE |  0.0081891246 | -0.078933144  |  0.1358019950 |  0.143782439  |  1.000000000  |  0.073963135  | -0.0049617448 | -5.930075e-03 | -0.0021196076 | -0.036571334  | -0.0201183511 | -0.0388005419 |  0.0699636660 | -0.008967708  |  0.035284382  |  0.0035588935 |  0.0117316050 | -0.103433918  | -9.855567e-02 | -0.0095077163 |\n",
       "| BUSSTRUC | -0.0179800824 | -0.004605849  |  0.0316874342 |  0.030380387  |  0.073963135  |  1.000000000  |  0.0018876248 |  1.276216e-03 | -0.0035433684 | -0.022648277  |  0.0062041870 |  0.0137755882 | -0.0410205259 |  0.011986838  |  0.031002558  | -0.0051853133 | -0.0098786928 |  0.016220136  |  5.350680e-03 | -0.0074102534 |\n",
       "| MAXLINEUTIL |  0.0001975473 |  0.022959670  | -0.0204286502 | -0.026570586  | -0.004961745  |  0.001887625  |  1.0000000000 |  9.589929e-01 |  0.7145730516 |  0.012885864  | -0.0003199329 | -0.0009513971 |  0.0089323997 |  0.057003188  |  0.015514060  | -0.0003495319 | -0.0003207706 | -0.002804847  | -8.426213e-04 | -0.0013017440 |\n",
       "| AVGLINEUTIL12 |  0.0017070264 |  0.023491599  | -0.0191978151 | -0.023112690  | -0.005930075  |  0.001276216  |  0.9589928780 |  1.000000e+00 |  0.5981247607 |  0.013569018  | -0.0001330866 | -0.0008169329 |  0.0103748284 |  0.056704468  |  0.014534685  | -0.0004870736 | -0.0005101826 | -0.003836902  |  8.436924e-05 | -0.0010748900 |\n",
       "| MAXLINEBALRT | -0.0033674873 |  0.019232073  | -0.0263324045 | -0.041598951  | -0.002119608  | -0.003543368  |  0.7145730516 |  5.981248e-01 |  1.0000000000 |  0.028412437  | -0.0005544798 | -0.0013651990 | -0.0008988493 |  0.030786057  |  0.011389425  |  0.0013271215 | -0.0001850379 |  0.008033711  |  3.777263e-03 | -0.0019267129 |\n",
       "| MAXTIMESLBAL12 | -0.0097585551 |  0.221666783  | -0.2546210142 | -0.271531407  | -0.036571334  | -0.022648277  |  0.0128858640 |  1.356902e-02 |  0.0284124365 |  1.000000000  |  0.0723853091 |  0.0864311955 |  0.1217526257 |  0.096588399  |  0.073792264  | -0.0051201960 | -0.0080475478 |  0.198133960  |  2.285219e-01 |  0.1139904186 |\n",
       "| DAYSDELQ | -0.0055997127 |  0.140800193  | -0.0291569709 | -0.032995275  | -0.020118351  |  0.006204187  | -0.0003199329 | -1.330866e-04 | -0.0005544798 |  0.072385309  |  1.0000000000 |  0.5722154141 | -0.0354444528 |  0.103497252  |  0.057764049  | -0.0011930707 | -0.0009605161 |  0.022309996  |  2.961979e-02 |  0.0237365711 |\n",
       "| TOTDAYSDELQ12 | -0.0059548276 |  0.161257147  | -0.0346404720 | -0.049650609  | -0.038800542  |  0.013775588  | -0.0009513971 | -8.169329e-04 | -0.0013651990 |  0.086431195  |  0.5722154141 |  1.0000000000 | -0.0667362496 |  0.077566843  |  0.063210930  | -0.0024668905 | -0.0020256503 |  0.037226166  |  4.810425e-02 |  0.0160886123 |\n",
       "| TOTACBAL | -0.0185289791 |  0.066106070  | -0.0240464625 | -0.038965901  |  0.069963666  | -0.041020526  |  0.0089323997 |  1.037483e-02 | -0.0008988493 |  0.121752626  | -0.0354444528 | -0.0667362496 |  1.0000000000 |  0.065104093  |  0.134711785  | -0.0337827739 | -0.0273574999 |  0.040292756  |  5.321649e-02 |  0.0357136597 |\n",
       "| MAXDELQ | -0.0037109295 |  0.355923136  | -0.0850406792 | -0.099149008  | -0.008967708  |  0.011986838  |  0.0570031885 |  5.670447e-02 |  0.0307860572 |  0.096588399  |  0.1034972521 |  0.0775668432 |  0.0651040930 |  1.000000000  |  0.619190721  | -0.0086621664 | -0.0076475162 |  0.050009743  |  6.358766e-02 |  0.0945605627 |\n",
       "| TOTDELQ12 | -0.0077551241 |  0.306309633  | -0.0785651780 | -0.084002670  |  0.035284382  |  0.031002558  |  0.0155140601 |  1.453469e-02 |  0.0113894254 |  0.073792264  |  0.0577640491 |  0.0632109297 |  0.1347117854 |  0.619190721  |  1.000000000  | -0.0126928951 | -0.0126143679 |  0.050328691  |  6.450872e-02 |  0.0588847985 |\n",
       "| DEPOSITRT |  0.0055106553 | -0.007965057  |  0.0007769719 |  0.007024087  |  0.003558894  | -0.005185313  | -0.0003495319 | -4.870736e-04 |  0.0013271215 | -0.005120196  | -0.0011930707 | -0.0024668905 | -0.0337827739 | -0.008662166  | -0.012692895  |  1.0000000000 |  0.7488753816 | -0.009476512  | -7.983472e-03 | -0.0034590645 |\n",
       "| AVGDEPRT12 |  0.0040269182 | -0.008097423  |  0.0046224527 |  0.007153206  |  0.011731605  | -0.009878693  | -0.0003207706 | -5.101826e-04 | -0.0001850379 | -0.008047548  | -0.0009605161 | -0.0020256503 | -0.0273574999 | -0.007647516  | -0.012614368  |  0.7488753816 |  1.0000000000 | -0.019362514  | -1.616100e-02 | -0.0033593032 |\n",
       "| ALL_OPEN_TRADE_UT | -0.0098820396 |  0.131427609  | -0.3098332619 | -0.348880798  | -0.103433918  |  0.016220136  | -0.0028048471 | -3.836902e-03 |  0.0080337112 |  0.198133960  |  0.0223099955 |  0.0372261661 |  0.0402927565 |  0.050009743  |  0.050328691  | -0.0094765121 | -0.0193625136 |  1.000000000  |  8.351234e-01 |  0.1384278832 |\n",
       "| BR_OPEN_TRADE_UT | -0.0082659252 |  0.152577773  | -0.3509629445 | -0.393772601  | -0.098555669  |  0.005350680  | -0.0008426213 |  8.436924e-05 |  0.0037772631 |  0.228521922  |  0.0296197873 |  0.0481042524 |  0.0532164942 |  0.063587658  |  0.064508721  | -0.0079834719 | -0.0161610016 |  0.835123377  |  1.000000e+00 |  0.1574030677 |\n",
       "| BR_TRADE_PAST_DUE |  0.0009777936 |  0.144578390  | -0.1891954260 | -0.181301551  | -0.009507716  | -0.007410253  | -0.0013017440 | -1.074890e-03 | -0.0019267129 |  0.113990419  |  0.0237365711 |  0.0160886123 |  0.0357136597 |  0.094560563  |  0.058884798  | -0.0034590645 | -0.0033593032 |  0.138427883  |  1.574031e-01 |  1.0000000000 |\n",
       "\n"
      ],
      "text/plain": [
       "                  seq           Credit_Default BE_SCORE_ON_OD BNI_SCORE_ON_OD\n",
       "seq                1.0000000000 -0.003857295    0.0057890059   0.002450344   \n",
       "Credit_Default    -0.0038572952  1.000000000   -0.1759565020  -0.234950338   \n",
       "BE_SCORE_ON_OD     0.0057890059 -0.175956502    1.0000000000   0.489298346   \n",
       "BNI_SCORE_ON_OD    0.0024503439 -0.234950338    0.4892983464   1.000000000   \n",
       "BUSAGE             0.0081891246 -0.078933144    0.1358019950   0.143782439   \n",
       "BUSSTRUC          -0.0179800824 -0.004605849    0.0316874342   0.030380387   \n",
       "MAXLINEUTIL        0.0001975473  0.022959670   -0.0204286502  -0.026570586   \n",
       "AVGLINEUTIL12      0.0017070264  0.023491599   -0.0191978151  -0.023112690   \n",
       "MAXLINEBALRT      -0.0033674873  0.019232073   -0.0263324045  -0.041598951   \n",
       "MAXTIMESLBAL12    -0.0097585551  0.221666783   -0.2546210142  -0.271531407   \n",
       "DAYSDELQ          -0.0055997127  0.140800193   -0.0291569709  -0.032995275   \n",
       "TOTDAYSDELQ12     -0.0059548276  0.161257147   -0.0346404720  -0.049650609   \n",
       "TOTACBAL          -0.0185289791  0.066106070   -0.0240464625  -0.038965901   \n",
       "MAXDELQ           -0.0037109295  0.355923136   -0.0850406792  -0.099149008   \n",
       "TOTDELQ12         -0.0077551241  0.306309633   -0.0785651780  -0.084002670   \n",
       "DEPOSITRT          0.0055106553 -0.007965057    0.0007769719   0.007024087   \n",
       "AVGDEPRT12         0.0040269182 -0.008097423    0.0046224527   0.007153206   \n",
       "ALL_OPEN_TRADE_UT -0.0098820396  0.131427609   -0.3098332619  -0.348880798   \n",
       "BR_OPEN_TRADE_UT  -0.0082659252  0.152577773   -0.3509629445  -0.393772601   \n",
       "BR_TRADE_PAST_DUE  0.0009777936  0.144578390   -0.1891954260  -0.181301551   \n",
       "                  BUSAGE       BUSSTRUC     MAXLINEUTIL   AVGLINEUTIL12\n",
       "seq                0.008189125 -0.017980082  0.0001975473  1.707026e-03\n",
       "Credit_Default    -0.078933144 -0.004605849  0.0229596698  2.349160e-02\n",
       "BE_SCORE_ON_OD     0.135801995  0.031687434 -0.0204286502 -1.919782e-02\n",
       "BNI_SCORE_ON_OD    0.143782439  0.030380387 -0.0265705863 -2.311269e-02\n",
       "BUSAGE             1.000000000  0.073963135 -0.0049617448 -5.930075e-03\n",
       "BUSSTRUC           0.073963135  1.000000000  0.0018876248  1.276216e-03\n",
       "MAXLINEUTIL       -0.004961745  0.001887625  1.0000000000  9.589929e-01\n",
       "AVGLINEUTIL12     -0.005930075  0.001276216  0.9589928780  1.000000e+00\n",
       "MAXLINEBALRT      -0.002119608 -0.003543368  0.7145730516  5.981248e-01\n",
       "MAXTIMESLBAL12    -0.036571334 -0.022648277  0.0128858640  1.356902e-02\n",
       "DAYSDELQ          -0.020118351  0.006204187 -0.0003199329 -1.330866e-04\n",
       "TOTDAYSDELQ12     -0.038800542  0.013775588 -0.0009513971 -8.169329e-04\n",
       "TOTACBAL           0.069963666 -0.041020526  0.0089323997  1.037483e-02\n",
       "MAXDELQ           -0.008967708  0.011986838  0.0570031885  5.670447e-02\n",
       "TOTDELQ12          0.035284382  0.031002558  0.0155140601  1.453469e-02\n",
       "DEPOSITRT          0.003558894 -0.005185313 -0.0003495319 -4.870736e-04\n",
       "AVGDEPRT12         0.011731605 -0.009878693 -0.0003207706 -5.101826e-04\n",
       "ALL_OPEN_TRADE_UT -0.103433918  0.016220136 -0.0028048471 -3.836902e-03\n",
       "BR_OPEN_TRADE_UT  -0.098555669  0.005350680 -0.0008426213  8.436924e-05\n",
       "BR_TRADE_PAST_DUE -0.009507716 -0.007410253 -0.0013017440 -1.074890e-03\n",
       "                  MAXLINEBALRT  MAXTIMESLBAL12 DAYSDELQ      TOTDAYSDELQ12\n",
       "seq               -0.0033674873 -0.009758555   -0.0055997127 -0.0059548276\n",
       "Credit_Default     0.0192320725  0.221666783    0.1408001929  0.1612571474\n",
       "BE_SCORE_ON_OD    -0.0263324045 -0.254621014   -0.0291569709 -0.0346404720\n",
       "BNI_SCORE_ON_OD   -0.0415989512 -0.271531407   -0.0329952751 -0.0496506095\n",
       "BUSAGE            -0.0021196076 -0.036571334   -0.0201183511 -0.0388005419\n",
       "BUSSTRUC          -0.0035433684 -0.022648277    0.0062041870  0.0137755882\n",
       "MAXLINEUTIL        0.7145730516  0.012885864   -0.0003199329 -0.0009513971\n",
       "AVGLINEUTIL12      0.5981247607  0.013569018   -0.0001330866 -0.0008169329\n",
       "MAXLINEBALRT       1.0000000000  0.028412437   -0.0005544798 -0.0013651990\n",
       "MAXTIMESLBAL12     0.0284124365  1.000000000    0.0723853091  0.0864311955\n",
       "DAYSDELQ          -0.0005544798  0.072385309    1.0000000000  0.5722154141\n",
       "TOTDAYSDELQ12     -0.0013651990  0.086431195    0.5722154141  1.0000000000\n",
       "TOTACBAL          -0.0008988493  0.121752626   -0.0354444528 -0.0667362496\n",
       "MAXDELQ            0.0307860572  0.096588399    0.1034972521  0.0775668432\n",
       "TOTDELQ12          0.0113894254  0.073792264    0.0577640491  0.0632109297\n",
       "DEPOSITRT          0.0013271215 -0.005120196   -0.0011930707 -0.0024668905\n",
       "AVGDEPRT12        -0.0001850379 -0.008047548   -0.0009605161 -0.0020256503\n",
       "ALL_OPEN_TRADE_UT  0.0080337112  0.198133960    0.0223099955  0.0372261661\n",
       "BR_OPEN_TRADE_UT   0.0037772631  0.228521922    0.0296197873  0.0481042524\n",
       "BR_TRADE_PAST_DUE -0.0019267129  0.113990419    0.0237365711  0.0160886123\n",
       "                  TOTACBAL      MAXDELQ      TOTDELQ12    DEPOSITRT    \n",
       "seq               -0.0185289791 -0.003710930 -0.007755124  0.0055106553\n",
       "Credit_Default     0.0661060698  0.355923136  0.306309633 -0.0079650571\n",
       "BE_SCORE_ON_OD    -0.0240464625 -0.085040679 -0.078565178  0.0007769719\n",
       "BNI_SCORE_ON_OD   -0.0389659012 -0.099149008 -0.084002670  0.0070240872\n",
       "BUSAGE             0.0699636660 -0.008967708  0.035284382  0.0035588935\n",
       "BUSSTRUC          -0.0410205259  0.011986838  0.031002558 -0.0051853133\n",
       "MAXLINEUTIL        0.0089323997  0.057003188  0.015514060 -0.0003495319\n",
       "AVGLINEUTIL12      0.0103748284  0.056704468  0.014534685 -0.0004870736\n",
       "MAXLINEBALRT      -0.0008988493  0.030786057  0.011389425  0.0013271215\n",
       "MAXTIMESLBAL12     0.1217526257  0.096588399  0.073792264 -0.0051201960\n",
       "DAYSDELQ          -0.0354444528  0.103497252  0.057764049 -0.0011930707\n",
       "TOTDAYSDELQ12     -0.0667362496  0.077566843  0.063210930 -0.0024668905\n",
       "TOTACBAL           1.0000000000  0.065104093  0.134711785 -0.0337827739\n",
       "MAXDELQ            0.0651040930  1.000000000  0.619190721 -0.0086621664\n",
       "TOTDELQ12          0.1347117854  0.619190721  1.000000000 -0.0126928951\n",
       "DEPOSITRT         -0.0337827739 -0.008662166 -0.012692895  1.0000000000\n",
       "AVGDEPRT12        -0.0273574999 -0.007647516 -0.012614368  0.7488753816\n",
       "ALL_OPEN_TRADE_UT  0.0402927565  0.050009743  0.050328691 -0.0094765121\n",
       "BR_OPEN_TRADE_UT   0.0532164942  0.063587658  0.064508721 -0.0079834719\n",
       "BR_TRADE_PAST_DUE  0.0357136597  0.094560563  0.058884798 -0.0034590645\n",
       "                  AVGDEPRT12    ALL_OPEN_TRADE_UT BR_OPEN_TRADE_UT\n",
       "seq                0.0040269182 -0.009882040      -8.265925e-03   \n",
       "Credit_Default    -0.0080974231  0.131427609       1.525778e-01   \n",
       "BE_SCORE_ON_OD     0.0046224527 -0.309833262      -3.509629e-01   \n",
       "BNI_SCORE_ON_OD    0.0071532057 -0.348880798      -3.937726e-01   \n",
       "BUSAGE             0.0117316050 -0.103433918      -9.855567e-02   \n",
       "BUSSTRUC          -0.0098786928  0.016220136       5.350680e-03   \n",
       "MAXLINEUTIL       -0.0003207706 -0.002804847      -8.426213e-04   \n",
       "AVGLINEUTIL12     -0.0005101826 -0.003836902       8.436924e-05   \n",
       "MAXLINEBALRT      -0.0001850379  0.008033711       3.777263e-03   \n",
       "MAXTIMESLBAL12    -0.0080475478  0.198133960       2.285219e-01   \n",
       "DAYSDELQ          -0.0009605161  0.022309996       2.961979e-02   \n",
       "TOTDAYSDELQ12     -0.0020256503  0.037226166       4.810425e-02   \n",
       "TOTACBAL          -0.0273574999  0.040292756       5.321649e-02   \n",
       "MAXDELQ           -0.0076475162  0.050009743       6.358766e-02   \n",
       "TOTDELQ12         -0.0126143679  0.050328691       6.450872e-02   \n",
       "DEPOSITRT          0.7488753816 -0.009476512      -7.983472e-03   \n",
       "AVGDEPRT12         1.0000000000 -0.019362514      -1.616100e-02   \n",
       "ALL_OPEN_TRADE_UT -0.0193625136  1.000000000       8.351234e-01   \n",
       "BR_OPEN_TRADE_UT  -0.0161610016  0.835123377       1.000000e+00   \n",
       "BR_TRADE_PAST_DUE -0.0033593032  0.138427883       1.574031e-01   \n",
       "                  BR_TRADE_PAST_DUE\n",
       "seq                0.0009777936    \n",
       "Credit_Default     0.1445783900    \n",
       "BE_SCORE_ON_OD    -0.1891954260    \n",
       "BNI_SCORE_ON_OD   -0.1813015511    \n",
       "BUSAGE            -0.0095077163    \n",
       "BUSSTRUC          -0.0074102534    \n",
       "MAXLINEUTIL       -0.0013017440    \n",
       "AVGLINEUTIL12     -0.0010748900    \n",
       "MAXLINEBALRT      -0.0019267129    \n",
       "MAXTIMESLBAL12     0.1139904186    \n",
       "DAYSDELQ           0.0237365711    \n",
       "TOTDAYSDELQ12      0.0160886123    \n",
       "TOTACBAL           0.0357136597    \n",
       "MAXDELQ            0.0945605627    \n",
       "TOTDELQ12          0.0588847985    \n",
       "DEPOSITRT         -0.0034590645    \n",
       "AVGDEPRT12        -0.0033593032    \n",
       "ALL_OPEN_TRADE_UT  0.1384278832    \n",
       "BR_OPEN_TRADE_UT   0.1574030677    \n",
       "BR_TRADE_PAST_DUE  1.0000000000    "
      ]
     },
     "metadata": {},
     "output_type": "display_data"
    }
   ],
   "source": [
    "#get the correlation between variables using the below function\n",
    "correlation(bet)"
   ]
  },
  {
   "cell_type": "markdown",
   "metadata": {},
   "source": [
    "### Building Model"
   ]
  },
  {
   "cell_type": "code",
   "execution_count": 19,
   "metadata": {},
   "outputs": [],
   "source": [
    "# Import the lda model\n",
    "source_python(\"lda.py\")\n",
    "ld <- import(\"lda\")"
   ]
  },
  {
   "cell_type": "code",
   "execution_count": 20,
   "metadata": {},
   "outputs": [],
   "source": [
    "#create class instance for the lda model\n",
    "lda <- ld$LinearDiscriminantAnalysis()"
   ]
  },
  {
   "cell_type": "code",
   "execution_count": 21,
   "metadata": {},
   "outputs": [],
   "source": [
    "#Fit the lda model with the training data bet\n",
    "lda$fit(bet, 'Credit_Default')"
   ]
  },
  {
   "cell_type": "markdown",
   "metadata": {},
   "source": [
    "### Load & Preprocess Test data"
   ]
  },
  {
   "cell_type": "code",
   "execution_count": 22,
   "metadata": {},
   "outputs": [],
   "source": [
    "test_data <- read.csv(file=\"Credit_test.csv\", header=TRUE)"
   ]
  },
  {
   "cell_type": "code",
   "execution_count": 23,
   "metadata": {},
   "outputs": [],
   "source": [
    "# removing rows with Null values\n",
    "test_data <- test_data[complete.cases(test_data), ]"
   ]
  },
  {
   "cell_type": "code",
   "execution_count": 24,
   "metadata": {},
   "outputs": [
    {
     "data": {
      "text/html": [
       "<table>\n",
       "<thead><tr><th scope=col>seq</th><th scope=col>Credit_Default</th><th scope=col>BE_SCORE_ON_OD</th><th scope=col>BNI_SCORE_ON_OD</th><th scope=col>BUSAGE</th><th scope=col>BUSSTRUC</th><th scope=col>MAXLINEUTIL</th><th scope=col>AVGLINEUTIL12</th><th scope=col>MAXLINEBALRT</th><th scope=col>MAXTIMESLBAL12</th><th scope=col>DAYSDELQ</th><th scope=col>TOTDAYSDELQ12</th><th scope=col>TOTACBAL</th><th scope=col>MAXDELQ</th><th scope=col>TOTDELQ12</th><th scope=col>DEPOSITRT</th><th scope=col>AVGDEPRT12</th><th scope=col>ALL_OPEN_TRADE_UT</th><th scope=col>BR_OPEN_TRADE_UT</th><th scope=col>BR_TRADE_PAST_DUE</th></tr></thead>\n",
       "<tbody>\n",
       "\t<tr><td>1       </td><td>1       </td><td>736     </td><td>892     </td><td>168     </td><td>1       </td><td>0.0000  </td><td>1.014081</td><td>0.2553  </td><td>10      </td><td>0       </td><td>0       </td><td> 5107.71</td><td>1       </td><td>1       </td><td>0.0000  </td><td>15.7516 </td><td>75      </td><td> 99     </td><td>0       </td></tr>\n",
       "\t<tr><td>1       </td><td>1       </td><td>690     </td><td>957     </td><td>194     </td><td>3       </td><td>0.0000  </td><td>0.044700</td><td>0.1091  </td><td> 0      </td><td>0       </td><td>0       </td><td>  374.76</td><td>0       </td><td>0       </td><td>0.0000  </td><td> 0.0000 </td><td>25      </td><td> 25     </td><td>1       </td></tr>\n",
       "\t<tr><td>1       </td><td>1       </td><td>536     </td><td>271     </td><td> 43     </td><td>1       </td><td>0.9545  </td><td>0.878050</td><td>1.0240  </td><td> 8      </td><td>0       </td><td>0       </td><td>11454.65</td><td>0       </td><td>0       </td><td>0.2518  </td><td> 1.2518 </td><td>98      </td><td>103     </td><td>1       </td></tr>\n",
       "\t<tr><td>1       </td><td>1       </td><td>700     </td><td>953     </td><td> 59     </td><td>1       </td><td>0.5495  </td><td>0.407540</td><td>0.6216  </td><td> 0      </td><td>0       </td><td>0       </td><td> 8242.67</td><td>0       </td><td>0       </td><td>0.1427  </td><td> 0.2030 </td><td>47      </td><td> 10     </td><td>0       </td></tr>\n",
       "\t<tr><td>1       </td><td>1       </td><td>696     </td><td>886     </td><td> 47     </td><td>1       </td><td>0.9707  </td><td>0.872291</td><td>0.9707  </td><td> 2      </td><td>0       </td><td>0       </td><td>97076.19</td><td>0       </td><td>1       </td><td>0.0117  </td><td> 0.1590 </td><td>30      </td><td> 85     </td><td>0       </td></tr>\n",
       "\t<tr><td>1       </td><td>1       </td><td>735     </td><td>843     </td><td>101     </td><td>2       </td><td>0.9914  </td><td>0.935858</td><td>0.9982  </td><td> 3      </td><td>0       </td><td>0       </td><td>29744.43</td><td>0       </td><td>6       </td><td>0.1800  </td><td> 0.2378 </td><td>84      </td><td>103     </td><td>0       </td></tr>\n",
       "</tbody>\n",
       "</table>\n"
      ],
      "text/latex": [
       "\\begin{tabular}{r|llllllllllllllllllll}\n",
       " seq & Credit\\_Default & BE\\_SCORE\\_ON\\_OD & BNI\\_SCORE\\_ON\\_OD & BUSAGE & BUSSTRUC & MAXLINEUTIL & AVGLINEUTIL12 & MAXLINEBALRT & MAXTIMESLBAL12 & DAYSDELQ & TOTDAYSDELQ12 & TOTACBAL & MAXDELQ & TOTDELQ12 & DEPOSITRT & AVGDEPRT12 & ALL\\_OPEN\\_TRADE\\_UT & BR\\_OPEN\\_TRADE\\_UT & BR\\_TRADE\\_PAST\\_DUE\\\\\n",
       "\\hline\n",
       "\t 1        & 1        & 736      & 892      & 168      & 1        & 0.0000   & 1.014081 & 0.2553   & 10       & 0        & 0        &  5107.71 & 1        & 1        & 0.0000   & 15.7516  & 75       &  99      & 0       \\\\\n",
       "\t 1        & 1        & 690      & 957      & 194      & 3        & 0.0000   & 0.044700 & 0.1091   &  0       & 0        & 0        &   374.76 & 0        & 0        & 0.0000   &  0.0000  & 25       &  25      & 1       \\\\\n",
       "\t 1        & 1        & 536      & 271      &  43      & 1        & 0.9545   & 0.878050 & 1.0240   &  8       & 0        & 0        & 11454.65 & 0        & 0        & 0.2518   &  1.2518  & 98       & 103      & 1       \\\\\n",
       "\t 1        & 1        & 700      & 953      &  59      & 1        & 0.5495   & 0.407540 & 0.6216   &  0       & 0        & 0        &  8242.67 & 0        & 0        & 0.1427   &  0.2030  & 47       &  10      & 0       \\\\\n",
       "\t 1        & 1        & 696      & 886      &  47      & 1        & 0.9707   & 0.872291 & 0.9707   &  2       & 0        & 0        & 97076.19 & 0        & 1        & 0.0117   &  0.1590  & 30       &  85      & 0       \\\\\n",
       "\t 1        & 1        & 735      & 843      & 101      & 2        & 0.9914   & 0.935858 & 0.9982   &  3       & 0        & 0        & 29744.43 & 0        & 6        & 0.1800   &  0.2378  & 84       & 103      & 0       \\\\\n",
       "\\end{tabular}\n"
      ],
      "text/markdown": [
       "\n",
       "| seq | Credit_Default | BE_SCORE_ON_OD | BNI_SCORE_ON_OD | BUSAGE | BUSSTRUC | MAXLINEUTIL | AVGLINEUTIL12 | MAXLINEBALRT | MAXTIMESLBAL12 | DAYSDELQ | TOTDAYSDELQ12 | TOTACBAL | MAXDELQ | TOTDELQ12 | DEPOSITRT | AVGDEPRT12 | ALL_OPEN_TRADE_UT | BR_OPEN_TRADE_UT | BR_TRADE_PAST_DUE |\n",
       "|---|---|---|---|---|---|---|---|---|---|---|---|---|---|---|---|---|---|---|---|\n",
       "| 1        | 1        | 736      | 892      | 168      | 1        | 0.0000   | 1.014081 | 0.2553   | 10       | 0        | 0        |  5107.71 | 1        | 1        | 0.0000   | 15.7516  | 75       |  99      | 0        |\n",
       "| 1        | 1        | 690      | 957      | 194      | 3        | 0.0000   | 0.044700 | 0.1091   |  0       | 0        | 0        |   374.76 | 0        | 0        | 0.0000   |  0.0000  | 25       |  25      | 1        |\n",
       "| 1        | 1        | 536      | 271      |  43      | 1        | 0.9545   | 0.878050 | 1.0240   |  8       | 0        | 0        | 11454.65 | 0        | 0        | 0.2518   |  1.2518  | 98       | 103      | 1        |\n",
       "| 1        | 1        | 700      | 953      |  59      | 1        | 0.5495   | 0.407540 | 0.6216   |  0       | 0        | 0        |  8242.67 | 0        | 0        | 0.1427   |  0.2030  | 47       |  10      | 0        |\n",
       "| 1        | 1        | 696      | 886      |  47      | 1        | 0.9707   | 0.872291 | 0.9707   |  2       | 0        | 0        | 97076.19 | 0        | 1        | 0.0117   |  0.1590  | 30       |  85      | 0        |\n",
       "| 1        | 1        | 735      | 843      | 101      | 2        | 0.9914   | 0.935858 | 0.9982   |  3       | 0        | 0        | 29744.43 | 0        | 6        | 0.1800   |  0.2378  | 84       | 103      | 0        |\n",
       "\n"
      ],
      "text/plain": [
       "  seq Credit_Default BE_SCORE_ON_OD BNI_SCORE_ON_OD BUSAGE BUSSTRUC MAXLINEUTIL\n",
       "1 1   1              736            892             168    1        0.0000     \n",
       "2 1   1              690            957             194    3        0.0000     \n",
       "3 1   1              536            271              43    1        0.9545     \n",
       "4 1   1              700            953              59    1        0.5495     \n",
       "5 1   1              696            886              47    1        0.9707     \n",
       "6 1   1              735            843             101    2        0.9914     \n",
       "  AVGLINEUTIL12 MAXLINEBALRT MAXTIMESLBAL12 DAYSDELQ TOTDAYSDELQ12 TOTACBAL\n",
       "1 1.014081      0.2553       10             0        0              5107.71\n",
       "2 0.044700      0.1091        0             0        0               374.76\n",
       "3 0.878050      1.0240        8             0        0             11454.65\n",
       "4 0.407540      0.6216        0             0        0              8242.67\n",
       "5 0.872291      0.9707        2             0        0             97076.19\n",
       "6 0.935858      0.9982        3             0        0             29744.43\n",
       "  MAXDELQ TOTDELQ12 DEPOSITRT AVGDEPRT12 ALL_OPEN_TRADE_UT BR_OPEN_TRADE_UT\n",
       "1 1       1         0.0000    15.7516    75                 99             \n",
       "2 0       0         0.0000     0.0000    25                 25             \n",
       "3 0       0         0.2518     1.2518    98                103             \n",
       "4 0       0         0.1427     0.2030    47                 10             \n",
       "5 0       1         0.0117     0.1590    30                 85             \n",
       "6 0       6         0.1800     0.2378    84                103             \n",
       "  BR_TRADE_PAST_DUE\n",
       "1 0                \n",
       "2 1                \n",
       "3 1                \n",
       "4 0                \n",
       "5 0                \n",
       "6 0                "
      ]
     },
     "metadata": {},
     "output_type": "display_data"
    }
   ],
   "source": [
    "head(test_data)"
   ]
  },
  {
   "cell_type": "code",
   "execution_count": 25,
   "metadata": {},
   "outputs": [],
   "source": [
    "#Select the target variable\n",
    "y_true <- test_data[,c(\"Credit_Default\")]"
   ]
  },
  {
   "cell_type": "code",
   "execution_count": 26,
   "metadata": {},
   "outputs": [],
   "source": [
    "# drop the target column from the test data\n",
    "drop <- c(\"Credit_Default\")\n",
    "df1 <- test_data[ , !(names(test_data) %in% drop)]"
   ]
  },
  {
   "cell_type": "code",
   "execution_count": 27,
   "metadata": {},
   "outputs": [
    {
     "data": {
      "text/html": [
       "<table>\n",
       "<thead><tr><th scope=col>seq</th><th scope=col>BE_SCORE_ON_OD</th><th scope=col>BNI_SCORE_ON_OD</th><th scope=col>BUSAGE</th><th scope=col>BUSSTRUC</th><th scope=col>MAXLINEUTIL</th><th scope=col>AVGLINEUTIL12</th><th scope=col>MAXLINEBALRT</th><th scope=col>MAXTIMESLBAL12</th><th scope=col>DAYSDELQ</th><th scope=col>TOTDAYSDELQ12</th><th scope=col>TOTACBAL</th><th scope=col>MAXDELQ</th><th scope=col>TOTDELQ12</th><th scope=col>DEPOSITRT</th><th scope=col>AVGDEPRT12</th><th scope=col>ALL_OPEN_TRADE_UT</th><th scope=col>BR_OPEN_TRADE_UT</th><th scope=col>BR_TRADE_PAST_DUE</th></tr></thead>\n",
       "<tbody>\n",
       "\t<tr><td>1       </td><td>736     </td><td>892     </td><td>168     </td><td>1       </td><td>0.0000  </td><td>1.014081</td><td>0.2553  </td><td>10      </td><td>0       </td><td>0       </td><td> 5107.71</td><td>1       </td><td>1       </td><td>0.0000  </td><td>15.7516 </td><td>75      </td><td> 99     </td><td>0       </td></tr>\n",
       "\t<tr><td>1       </td><td>690     </td><td>957     </td><td>194     </td><td>3       </td><td>0.0000  </td><td>0.044700</td><td>0.1091  </td><td> 0      </td><td>0       </td><td>0       </td><td>  374.76</td><td>0       </td><td>0       </td><td>0.0000  </td><td> 0.0000 </td><td>25      </td><td> 25     </td><td>1       </td></tr>\n",
       "\t<tr><td>1       </td><td>536     </td><td>271     </td><td> 43     </td><td>1       </td><td>0.9545  </td><td>0.878050</td><td>1.0240  </td><td> 8      </td><td>0       </td><td>0       </td><td>11454.65</td><td>0       </td><td>0       </td><td>0.2518  </td><td> 1.2518 </td><td>98      </td><td>103     </td><td>1       </td></tr>\n",
       "\t<tr><td>1       </td><td>700     </td><td>953     </td><td> 59     </td><td>1       </td><td>0.5495  </td><td>0.407540</td><td>0.6216  </td><td> 0      </td><td>0       </td><td>0       </td><td> 8242.67</td><td>0       </td><td>0       </td><td>0.1427  </td><td> 0.2030 </td><td>47      </td><td> 10     </td><td>0       </td></tr>\n",
       "\t<tr><td>1       </td><td>696     </td><td>886     </td><td> 47     </td><td>1       </td><td>0.9707  </td><td>0.872291</td><td>0.9707  </td><td> 2      </td><td>0       </td><td>0       </td><td>97076.19</td><td>0       </td><td>1       </td><td>0.0117  </td><td> 0.1590 </td><td>30      </td><td> 85     </td><td>0       </td></tr>\n",
       "\t<tr><td>1       </td><td>735     </td><td>843     </td><td>101     </td><td>2       </td><td>0.9914  </td><td>0.935858</td><td>0.9982  </td><td> 3      </td><td>0       </td><td>0       </td><td>29744.43</td><td>0       </td><td>6       </td><td>0.1800  </td><td> 0.2378 </td><td>84      </td><td>103     </td><td>0       </td></tr>\n",
       "</tbody>\n",
       "</table>\n"
      ],
      "text/latex": [
       "\\begin{tabular}{r|lllllllllllllllllll}\n",
       " seq & BE\\_SCORE\\_ON\\_OD & BNI\\_SCORE\\_ON\\_OD & BUSAGE & BUSSTRUC & MAXLINEUTIL & AVGLINEUTIL12 & MAXLINEBALRT & MAXTIMESLBAL12 & DAYSDELQ & TOTDAYSDELQ12 & TOTACBAL & MAXDELQ & TOTDELQ12 & DEPOSITRT & AVGDEPRT12 & ALL\\_OPEN\\_TRADE\\_UT & BR\\_OPEN\\_TRADE\\_UT & BR\\_TRADE\\_PAST\\_DUE\\\\\n",
       "\\hline\n",
       "\t 1        & 736      & 892      & 168      & 1        & 0.0000   & 1.014081 & 0.2553   & 10       & 0        & 0        &  5107.71 & 1        & 1        & 0.0000   & 15.7516  & 75       &  99      & 0       \\\\\n",
       "\t 1        & 690      & 957      & 194      & 3        & 0.0000   & 0.044700 & 0.1091   &  0       & 0        & 0        &   374.76 & 0        & 0        & 0.0000   &  0.0000  & 25       &  25      & 1       \\\\\n",
       "\t 1        & 536      & 271      &  43      & 1        & 0.9545   & 0.878050 & 1.0240   &  8       & 0        & 0        & 11454.65 & 0        & 0        & 0.2518   &  1.2518  & 98       & 103      & 1       \\\\\n",
       "\t 1        & 700      & 953      &  59      & 1        & 0.5495   & 0.407540 & 0.6216   &  0       & 0        & 0        &  8242.67 & 0        & 0        & 0.1427   &  0.2030  & 47       &  10      & 0       \\\\\n",
       "\t 1        & 696      & 886      &  47      & 1        & 0.9707   & 0.872291 & 0.9707   &  2       & 0        & 0        & 97076.19 & 0        & 1        & 0.0117   &  0.1590  & 30       &  85      & 0       \\\\\n",
       "\t 1        & 735      & 843      & 101      & 2        & 0.9914   & 0.935858 & 0.9982   &  3       & 0        & 0        & 29744.43 & 0        & 6        & 0.1800   &  0.2378  & 84       & 103      & 0       \\\\\n",
       "\\end{tabular}\n"
      ],
      "text/markdown": [
       "\n",
       "| seq | BE_SCORE_ON_OD | BNI_SCORE_ON_OD | BUSAGE | BUSSTRUC | MAXLINEUTIL | AVGLINEUTIL12 | MAXLINEBALRT | MAXTIMESLBAL12 | DAYSDELQ | TOTDAYSDELQ12 | TOTACBAL | MAXDELQ | TOTDELQ12 | DEPOSITRT | AVGDEPRT12 | ALL_OPEN_TRADE_UT | BR_OPEN_TRADE_UT | BR_TRADE_PAST_DUE |\n",
       "|---|---|---|---|---|---|---|---|---|---|---|---|---|---|---|---|---|---|---|\n",
       "| 1        | 736      | 892      | 168      | 1        | 0.0000   | 1.014081 | 0.2553   | 10       | 0        | 0        |  5107.71 | 1        | 1        | 0.0000   | 15.7516  | 75       |  99      | 0        |\n",
       "| 1        | 690      | 957      | 194      | 3        | 0.0000   | 0.044700 | 0.1091   |  0       | 0        | 0        |   374.76 | 0        | 0        | 0.0000   |  0.0000  | 25       |  25      | 1        |\n",
       "| 1        | 536      | 271      |  43      | 1        | 0.9545   | 0.878050 | 1.0240   |  8       | 0        | 0        | 11454.65 | 0        | 0        | 0.2518   |  1.2518  | 98       | 103      | 1        |\n",
       "| 1        | 700      | 953      |  59      | 1        | 0.5495   | 0.407540 | 0.6216   |  0       | 0        | 0        |  8242.67 | 0        | 0        | 0.1427   |  0.2030  | 47       |  10      | 0        |\n",
       "| 1        | 696      | 886      |  47      | 1        | 0.9707   | 0.872291 | 0.9707   |  2       | 0        | 0        | 97076.19 | 0        | 1        | 0.0117   |  0.1590  | 30       |  85      | 0        |\n",
       "| 1        | 735      | 843      | 101      | 2        | 0.9914   | 0.935858 | 0.9982   |  3       | 0        | 0        | 29744.43 | 0        | 6        | 0.1800   |  0.2378  | 84       | 103      | 0        |\n",
       "\n"
      ],
      "text/plain": [
       "  seq BE_SCORE_ON_OD BNI_SCORE_ON_OD BUSAGE BUSSTRUC MAXLINEUTIL AVGLINEUTIL12\n",
       "1 1   736            892             168    1        0.0000      1.014081     \n",
       "2 1   690            957             194    3        0.0000      0.044700     \n",
       "3 1   536            271              43    1        0.9545      0.878050     \n",
       "4 1   700            953              59    1        0.5495      0.407540     \n",
       "5 1   696            886              47    1        0.9707      0.872291     \n",
       "6 1   735            843             101    2        0.9914      0.935858     \n",
       "  MAXLINEBALRT MAXTIMESLBAL12 DAYSDELQ TOTDAYSDELQ12 TOTACBAL MAXDELQ TOTDELQ12\n",
       "1 0.2553       10             0        0              5107.71 1       1        \n",
       "2 0.1091        0             0        0               374.76 0       0        \n",
       "3 1.0240        8             0        0             11454.65 0       0        \n",
       "4 0.6216        0             0        0              8242.67 0       0        \n",
       "5 0.9707        2             0        0             97076.19 0       1        \n",
       "6 0.9982        3             0        0             29744.43 0       6        \n",
       "  DEPOSITRT AVGDEPRT12 ALL_OPEN_TRADE_UT BR_OPEN_TRADE_UT BR_TRADE_PAST_DUE\n",
       "1 0.0000    15.7516    75                 99              0                \n",
       "2 0.0000     0.0000    25                 25              1                \n",
       "3 0.2518     1.2518    98                103              1                \n",
       "4 0.1427     0.2030    47                 10              0                \n",
       "5 0.0117     0.1590    30                 85              0                \n",
       "6 0.1800     0.2378    84                103              0                "
      ]
     },
     "metadata": {},
     "output_type": "display_data"
    }
   ],
   "source": [
    "head(df1)"
   ]
  },
  {
   "cell_type": "markdown",
   "metadata": {},
   "source": [
    "### Model Predictions on Test data"
   ]
  },
  {
   "cell_type": "code",
   "execution_count": 28,
   "metadata": {},
   "outputs": [],
   "source": [
    "#use lda predict function for making the predictions\n",
    "y_pred = lda$predict(df1)"
   ]
  },
  {
   "cell_type": "markdown",
   "metadata": {},
   "source": [
    "### Feature Selection"
   ]
  },
  {
   "cell_type": "code",
   "execution_count": 30,
   "metadata": {},
   "outputs": [],
   "source": [
    "# Import the feature selection module\n",
    "feature_selection <- import(\"mahalanobis_features\")"
   ]
  },
  {
   "cell_type": "code",
   "execution_count": 41,
   "metadata": {},
   "outputs": [],
   "source": [
    "best_features <- feature_selection$mahalanobis_selection()"
   ]
  },
  {
   "cell_type": "code",
   "execution_count": 42,
   "metadata": {},
   "outputs": [
    {
     "data": {
      "text/html": [
       "<ol class=list-inline>\n",
       "\t<li>'MAXDELQ'</li>\n",
       "\t<li>'BNI_SCORE_ON_OD'</li>\n",
       "\t<li>'MAXTIMESLBAL12'</li>\n",
       "</ol>\n"
      ],
      "text/latex": [
       "\\begin{enumerate*}\n",
       "\\item 'MAXDELQ'\n",
       "\\item 'BNI\\_SCORE\\_ON\\_OD'\n",
       "\\item 'MAXTIMESLBAL12'\n",
       "\\end{enumerate*}\n"
      ],
      "text/markdown": [
       "1. 'MAXDELQ'\n",
       "2. 'BNI_SCORE_ON_OD'\n",
       "3. 'MAXTIMESLBAL12'\n",
       "\n",
       "\n"
      ],
      "text/plain": [
       "[1] \"MAXDELQ\"         \"BNI_SCORE_ON_OD\" \"MAXTIMESLBAL12\" "
      ]
     },
     "metadata": {},
     "output_type": "display_data"
    }
   ],
   "source": [
    "# Select best features from the data using below function\n",
    "features = best_features$forward_selection(bet,'Credit_Default', alpha=1.1)\n",
    "c(features)"
   ]
  },
  {
   "cell_type": "code",
   "execution_count": 43,
   "metadata": {},
   "outputs": [],
   "source": [
    "best_features <- append(features, 'Credit_Default')"
   ]
  },
  {
   "cell_type": "code",
   "execution_count": 44,
   "metadata": {},
   "outputs": [],
   "source": [
    "# Select only rows & columns with only best features from the BET \n",
    "# Using select_bet preprocessor for selecting the part of BET\n",
    "select_bet <- import(\"select_bet\")\n",
    "BET_best <- select_bet$select(bet, best_features)"
   ]
  },
  {
   "cell_type": "code",
   "execution_count": 45,
   "metadata": {},
   "outputs": [],
   "source": [
    "#fit the model with new BET\n",
    "lda$fit(BET_best, 'Credit_Default')"
   ]
  },
  {
   "cell_type": "code",
   "execution_count": 46,
   "metadata": {},
   "outputs": [],
   "source": [
    "df_test_best_features <- test_data[,features]"
   ]
  },
  {
   "cell_type": "code",
   "execution_count": 47,
   "metadata": {},
   "outputs": [],
   "source": [
    "# Test the model on new model with only best features\n",
    "y_pred_best = lda$predict(df_test_best_features)"
   ]
  },
  {
   "cell_type": "code",
   "execution_count": 48,
   "metadata": {},
   "outputs": [
    {
     "data": {
      "text/html": [
       "0.91988821611551"
      ],
      "text/latex": [
       "0.91988821611551"
      ],
      "text/markdown": [
       "0.91988821611551"
      ],
      "text/plain": [
       "[1] 0.9198882"
      ]
     },
     "metadata": {},
     "output_type": "display_data"
    }
   ],
   "source": [
    "pred <- prediction(y_pred_best, y_true)\n",
    "perf <- performance(pred, \"acc\")\n",
    "max(perf@y.values[[1]])"
   ]
  },
  {
   "cell_type": "markdown",
   "metadata": {},
   "source": [
    "### Model Evaluation"
   ]
  },
  {
   "cell_type": "code",
   "execution_count": 39,
   "metadata": {},
   "outputs": [
    {
     "data": {
      "image/png": "[encoded data removed]",
      "text/plain": [
       "plot without title"
      ]
     },
     "metadata": {},
     "output_type": "display_data"
    }
   ],
   "source": [
    "ROC.perf <- performance(pred, \"tpr\", \"fpr\");\n",
    "plot (ROC.perf);"
   ]
  },
  {
   "cell_type": "code",
   "execution_count": 40,
   "metadata": {},
   "outputs": [
    {
     "data": {
      "text/html": [
       "0.686517515454813"
      ],
      "text/latex": [
       "0.686517515454813"
      ],
      "text/markdown": [
       "0.686517515454813"
      ],
      "text/plain": [
       "[1] 0.6865175"
      ]
     },
     "metadata": {},
     "output_type": "display_data"
    }
   ],
   "source": [
    "auc.tmp <- performance(pred,\"auc\");\n",
    "auc <- as.numeric(auc.tmp@y.values)\n",
    "auc"
   ]
  },
  {
   "cell_type": "markdown",
   "metadata": {},
   "source": [
    "This case study just for showing the functions of ARTML. Better feature engineering and model selection could further improve the model performance."
   ]
  },
  {
   "cell_type": "markdown",
   "metadata": {},
   "source": [
    "-------------------------------------------------"
   ]
  }
 ],
 "metadata": {
  "kernelspec": {
   "display_name": "R",
   "language": "R",
   "name": "ir"
  },
  "language_info": {
   "codemirror_mode": "r",
   "file_extension": ".r",
   "mimetype": "text/x-r-source",
   "name": "R",
   "pygments_lexer": "r",
   "version": "3.6.0"
  }
 },
 "nbformat": 4,
 "nbformat_minor": 2
}
